{
 "cells": [
  {
   "cell_type": "markdown",
   "id": "1ce7347c",
   "metadata": {},
   "source": [
    "# Academic Stress Level\n",
    "\n",
    "**About Dataset** :<br>\n",
    "dataset berasal dari kaggle dengan judul \"Student Academic Stress Real World Dataset\" dapat di liat dari link berikut https://www.kaggle.com/datasets/poushal02/student-academic-stress-real-world-dataset"
   ]
  },
  {
   "cell_type": "markdown",
   "id": "2383c7d2",
   "metadata": {},
   "source": [
    "# 1. Import Library\n",
    "- Mengimpor pustaka yang dibutuhkan seperti pandas, numpy, matplotlib, seaborn, scikit-learn, dll."
   ]
  },
  {
   "cell_type": "code",
   "execution_count": 1,
   "id": "713d881b",
   "metadata": {},
   "outputs": [],
   "source": [
    "import pandas as pd\n",
    "import numpy as np\n",
    "import seaborn as sns\n",
    "import matplotlib.pyplot as plt\n",
    "\n",
    "from sklearn.cluster import KMeans\n",
    "from sklearn.preprocessing import StandardScaler, LabelEncoder, OneHotEncoder\n",
    "from sklearn.decomposition import PCA"
   ]
  },
  {
   "cell_type": "markdown",
   "id": "f02e4327",
   "metadata": {},
   "source": [
    "# 2. Load Data\n",
    "- Membaca dataset dari sumbernya (.csv, .xlsx, database, API, dsb).\n",
    "- Contoh: pd.read_csv(\"data.csv\")."
   ]
  },
  {
   "cell_type": "code",
   "execution_count": 2,
   "id": "4e988463",
   "metadata": {},
   "outputs": [],
   "source": [
    "# Load Data csv\n",
    "df = pd.read_csv(\"academic_stress_level.csv\")"
   ]
  },
  {
   "cell_type": "markdown",
   "id": "ac22bd33",
   "metadata": {},
   "source": [
    "# 3. Data Understanding (Explorasi Awal)\n",
    "- Melihat bentuk data (```.head()```, ```.info()```, ```.describe()```).\n",
    "- Mengecek tipe data, jumlah kolom/baris, dan distribusi nilai."
   ]
  },
  {
   "cell_type": "code",
   "execution_count": 3,
   "id": "cf32eb47",
   "metadata": {},
   "outputs": [
    {
     "data": {
      "application/vnd.microsoft.datawrangler.viewer.v0+json": {
       "columns": [
        {
         "name": "index",
         "rawType": "int64",
         "type": "integer"
        },
        {
         "name": "Timestamp",
         "rawType": "object",
         "type": "string"
        },
        {
         "name": "Your Academic Stage",
         "rawType": "object",
         "type": "string"
        },
        {
         "name": "Peer pressure",
         "rawType": "int64",
         "type": "integer"
        },
        {
         "name": "Academic pressure from your home",
         "rawType": "int64",
         "type": "integer"
        },
        {
         "name": "Study Environment",
         "rawType": "object",
         "type": "string"
        },
        {
         "name": "What coping strategy you use as a student?",
         "rawType": "object",
         "type": "string"
        },
        {
         "name": "Do you have any bad habits like smoking, drinking on a daily basis?",
         "rawType": "object",
         "type": "string"
        },
        {
         "name": "What would you rate the academic  competition in your student life",
         "rawType": "int64",
         "type": "integer"
        },
        {
         "name": "Rate your academic stress index ",
         "rawType": "int64",
         "type": "integer"
        }
       ],
       "ref": "fa8efd98-08a2-4019-a433-f984f30d850d",
       "rows": [
        [
         "0",
         "24/07/2025 22:05:39",
         "undergraduate",
         "4",
         "5",
         "Noisy",
         "Analyze the situation and handle it with intellect",
         "No",
         "3",
         "5"
        ],
        [
         "1",
         "24/07/2025 22:05:52",
         "undergraduate",
         "3",
         "4",
         "Peaceful",
         "Analyze the situation and handle it with intellect",
         "No",
         "3",
         "3"
        ],
        [
         "2",
         "24/07/2025 22:06:39",
         "undergraduate",
         "1",
         "1",
         "Peaceful",
         "Social support (friends, family)",
         "No",
         "2",
         "4"
        ],
        [
         "3",
         "24/07/2025 22:06:45",
         "undergraduate",
         "3",
         "2",
         "Peaceful",
         "Analyze the situation and handle it with intellect",
         "No",
         "4",
         "3"
        ],
        [
         "4",
         "24/07/2025 22:08:06",
         "undergraduate",
         "3",
         "3",
         "Peaceful",
         "Analyze the situation and handle it with intellect",
         "No",
         "4",
         "5"
        ]
       ],
       "shape": {
        "columns": 9,
        "rows": 5
       }
      },
      "text/html": [
       "<div>\n",
       "<style scoped>\n",
       "    .dataframe tbody tr th:only-of-type {\n",
       "        vertical-align: middle;\n",
       "    }\n",
       "\n",
       "    .dataframe tbody tr th {\n",
       "        vertical-align: top;\n",
       "    }\n",
       "\n",
       "    .dataframe thead th {\n",
       "        text-align: right;\n",
       "    }\n",
       "</style>\n",
       "<table border=\"1\" class=\"dataframe\">\n",
       "  <thead>\n",
       "    <tr style=\"text-align: right;\">\n",
       "      <th></th>\n",
       "      <th>Timestamp</th>\n",
       "      <th>Your Academic Stage</th>\n",
       "      <th>Peer pressure</th>\n",
       "      <th>Academic pressure from your home</th>\n",
       "      <th>Study Environment</th>\n",
       "      <th>What coping strategy you use as a student?</th>\n",
       "      <th>Do you have any bad habits like smoking, drinking on a daily basis?</th>\n",
       "      <th>What would you rate the academic  competition in your student life</th>\n",
       "      <th>Rate your academic stress index</th>\n",
       "    </tr>\n",
       "  </thead>\n",
       "  <tbody>\n",
       "    <tr>\n",
       "      <th>0</th>\n",
       "      <td>24/07/2025 22:05:39</td>\n",
       "      <td>undergraduate</td>\n",
       "      <td>4</td>\n",
       "      <td>5</td>\n",
       "      <td>Noisy</td>\n",
       "      <td>Analyze the situation and handle it with intel...</td>\n",
       "      <td>No</td>\n",
       "      <td>3</td>\n",
       "      <td>5</td>\n",
       "    </tr>\n",
       "    <tr>\n",
       "      <th>1</th>\n",
       "      <td>24/07/2025 22:05:52</td>\n",
       "      <td>undergraduate</td>\n",
       "      <td>3</td>\n",
       "      <td>4</td>\n",
       "      <td>Peaceful</td>\n",
       "      <td>Analyze the situation and handle it with intel...</td>\n",
       "      <td>No</td>\n",
       "      <td>3</td>\n",
       "      <td>3</td>\n",
       "    </tr>\n",
       "    <tr>\n",
       "      <th>2</th>\n",
       "      <td>24/07/2025 22:06:39</td>\n",
       "      <td>undergraduate</td>\n",
       "      <td>1</td>\n",
       "      <td>1</td>\n",
       "      <td>Peaceful</td>\n",
       "      <td>Social support (friends, family)</td>\n",
       "      <td>No</td>\n",
       "      <td>2</td>\n",
       "      <td>4</td>\n",
       "    </tr>\n",
       "    <tr>\n",
       "      <th>3</th>\n",
       "      <td>24/07/2025 22:06:45</td>\n",
       "      <td>undergraduate</td>\n",
       "      <td>3</td>\n",
       "      <td>2</td>\n",
       "      <td>Peaceful</td>\n",
       "      <td>Analyze the situation and handle it with intel...</td>\n",
       "      <td>No</td>\n",
       "      <td>4</td>\n",
       "      <td>3</td>\n",
       "    </tr>\n",
       "    <tr>\n",
       "      <th>4</th>\n",
       "      <td>24/07/2025 22:08:06</td>\n",
       "      <td>undergraduate</td>\n",
       "      <td>3</td>\n",
       "      <td>3</td>\n",
       "      <td>Peaceful</td>\n",
       "      <td>Analyze the situation and handle it with intel...</td>\n",
       "      <td>No</td>\n",
       "      <td>4</td>\n",
       "      <td>5</td>\n",
       "    </tr>\n",
       "  </tbody>\n",
       "</table>\n",
       "</div>"
      ],
      "text/plain": [
       "             Timestamp Your Academic Stage  Peer pressure  \\\n",
       "0  24/07/2025 22:05:39       undergraduate              4   \n",
       "1  24/07/2025 22:05:52       undergraduate              3   \n",
       "2  24/07/2025 22:06:39       undergraduate              1   \n",
       "3  24/07/2025 22:06:45       undergraduate              3   \n",
       "4  24/07/2025 22:08:06       undergraduate              3   \n",
       "\n",
       "   Academic pressure from your home Study Environment  \\\n",
       "0                                 5             Noisy   \n",
       "1                                 4          Peaceful   \n",
       "2                                 1          Peaceful   \n",
       "3                                 2          Peaceful   \n",
       "4                                 3          Peaceful   \n",
       "\n",
       "          What coping strategy you use as a student?  \\\n",
       "0  Analyze the situation and handle it with intel...   \n",
       "1  Analyze the situation and handle it with intel...   \n",
       "2                   Social support (friends, family)   \n",
       "3  Analyze the situation and handle it with intel...   \n",
       "4  Analyze the situation and handle it with intel...   \n",
       "\n",
       "  Do you have any bad habits like smoking, drinking on a daily basis?  \\\n",
       "0                                                 No                    \n",
       "1                                                 No                    \n",
       "2                                                 No                    \n",
       "3                                                 No                    \n",
       "4                                                 No                    \n",
       "\n",
       "   What would you rate the academic  competition in your student life  \\\n",
       "0                                                  3                    \n",
       "1                                                  3                    \n",
       "2                                                  2                    \n",
       "3                                                  4                    \n",
       "4                                                  4                    \n",
       "\n",
       "   Rate your academic stress index   \n",
       "0                                 5  \n",
       "1                                 3  \n",
       "2                                 4  \n",
       "3                                 3  \n",
       "4                                 5  "
      ]
     },
     "execution_count": 3,
     "metadata": {},
     "output_type": "execute_result"
    }
   ],
   "source": [
    "# Melihat 5 baris pertama dataset\n",
    "df.head(5)"
   ]
  },
  {
   "cell_type": "code",
   "execution_count": 4,
   "id": "8bf1a686",
   "metadata": {},
   "outputs": [
    {
     "name": "stdout",
     "output_type": "stream",
     "text": [
      "<class 'pandas.core.frame.DataFrame'>\n",
      "RangeIndex: 140 entries, 0 to 139\n",
      "Data columns (total 9 columns):\n",
      " #   Column                                                               Non-Null Count  Dtype \n",
      "---  ------                                                               --------------  ----- \n",
      " 0   Timestamp                                                            140 non-null    object\n",
      " 1   Your Academic Stage                                                  140 non-null    object\n",
      " 2   Peer pressure                                                        140 non-null    int64 \n",
      " 3   Academic pressure from your home                                     140 non-null    int64 \n",
      " 4   Study Environment                                                    139 non-null    object\n",
      " 5   What coping strategy you use as a student?                           140 non-null    object\n",
      " 6   Do you have any bad habits like smoking, drinking on a daily basis?  140 non-null    object\n",
      " 7   What would you rate the academic  competition in your student life   140 non-null    int64 \n",
      " 8   Rate your academic stress index                                      140 non-null    int64 \n",
      "dtypes: int64(4), object(5)\n",
      "memory usage: 10.0+ KB\n"
     ]
    }
   ],
   "source": [
    "# Menampilkan info dataset\n",
    "df.info()"
   ]
  },
  {
   "cell_type": "code",
   "execution_count": 5,
   "id": "b9513039",
   "metadata": {},
   "outputs": [
    {
     "data": {
      "application/vnd.microsoft.datawrangler.viewer.v0+json": {
       "columns": [
        {
         "name": "index",
         "rawType": "object",
         "type": "string"
        },
        {
         "name": "Peer pressure",
         "rawType": "float64",
         "type": "float"
        },
        {
         "name": "Academic pressure from your home",
         "rawType": "float64",
         "type": "float"
        },
        {
         "name": "What would you rate the academic  competition in your student life",
         "rawType": "float64",
         "type": "float"
        },
        {
         "name": "Rate your academic stress index ",
         "rawType": "float64",
         "type": "float"
        }
       ],
       "ref": "02d735f7-4a3d-4725-afaa-c6cfb0aab771",
       "rows": [
        [
         "count",
         "140.0",
         "140.0",
         "140.0",
         "140.0"
        ],
        [
         "mean",
         "3.0714285714285716",
         "3.1785714285714284",
         "3.492857142857143",
         "3.7214285714285715"
        ],
        [
         "std",
         "1.083843793616946",
         "1.2766179303867682",
         "1.028349439331336",
         "1.0323393643596943"
        ],
        [
         "min",
         "1.0",
         "1.0",
         "1.0",
         "1.0"
        ],
        [
         "25%",
         "2.0",
         "2.0",
         "3.0",
         "3.0"
        ],
        [
         "50%",
         "3.0",
         "3.0",
         "4.0",
         "4.0"
        ],
        [
         "75%",
         "4.0",
         "4.0",
         "4.0",
         "4.0"
        ],
        [
         "max",
         "5.0",
         "5.0",
         "5.0",
         "5.0"
        ]
       ],
       "shape": {
        "columns": 4,
        "rows": 8
       }
      },
      "text/html": [
       "<div>\n",
       "<style scoped>\n",
       "    .dataframe tbody tr th:only-of-type {\n",
       "        vertical-align: middle;\n",
       "    }\n",
       "\n",
       "    .dataframe tbody tr th {\n",
       "        vertical-align: top;\n",
       "    }\n",
       "\n",
       "    .dataframe thead th {\n",
       "        text-align: right;\n",
       "    }\n",
       "</style>\n",
       "<table border=\"1\" class=\"dataframe\">\n",
       "  <thead>\n",
       "    <tr style=\"text-align: right;\">\n",
       "      <th></th>\n",
       "      <th>Peer pressure</th>\n",
       "      <th>Academic pressure from your home</th>\n",
       "      <th>What would you rate the academic  competition in your student life</th>\n",
       "      <th>Rate your academic stress index</th>\n",
       "    </tr>\n",
       "  </thead>\n",
       "  <tbody>\n",
       "    <tr>\n",
       "      <th>count</th>\n",
       "      <td>140.000000</td>\n",
       "      <td>140.000000</td>\n",
       "      <td>140.000000</td>\n",
       "      <td>140.000000</td>\n",
       "    </tr>\n",
       "    <tr>\n",
       "      <th>mean</th>\n",
       "      <td>3.071429</td>\n",
       "      <td>3.178571</td>\n",
       "      <td>3.492857</td>\n",
       "      <td>3.721429</td>\n",
       "    </tr>\n",
       "    <tr>\n",
       "      <th>std</th>\n",
       "      <td>1.083844</td>\n",
       "      <td>1.276618</td>\n",
       "      <td>1.028349</td>\n",
       "      <td>1.032339</td>\n",
       "    </tr>\n",
       "    <tr>\n",
       "      <th>min</th>\n",
       "      <td>1.000000</td>\n",
       "      <td>1.000000</td>\n",
       "      <td>1.000000</td>\n",
       "      <td>1.000000</td>\n",
       "    </tr>\n",
       "    <tr>\n",
       "      <th>25%</th>\n",
       "      <td>2.000000</td>\n",
       "      <td>2.000000</td>\n",
       "      <td>3.000000</td>\n",
       "      <td>3.000000</td>\n",
       "    </tr>\n",
       "    <tr>\n",
       "      <th>50%</th>\n",
       "      <td>3.000000</td>\n",
       "      <td>3.000000</td>\n",
       "      <td>4.000000</td>\n",
       "      <td>4.000000</td>\n",
       "    </tr>\n",
       "    <tr>\n",
       "      <th>75%</th>\n",
       "      <td>4.000000</td>\n",
       "      <td>4.000000</td>\n",
       "      <td>4.000000</td>\n",
       "      <td>4.000000</td>\n",
       "    </tr>\n",
       "    <tr>\n",
       "      <th>max</th>\n",
       "      <td>5.000000</td>\n",
       "      <td>5.000000</td>\n",
       "      <td>5.000000</td>\n",
       "      <td>5.000000</td>\n",
       "    </tr>\n",
       "  </tbody>\n",
       "</table>\n",
       "</div>"
      ],
      "text/plain": [
       "       Peer pressure  Academic pressure from your home  \\\n",
       "count     140.000000                        140.000000   \n",
       "mean        3.071429                          3.178571   \n",
       "std         1.083844                          1.276618   \n",
       "min         1.000000                          1.000000   \n",
       "25%         2.000000                          2.000000   \n",
       "50%         3.000000                          3.000000   \n",
       "75%         4.000000                          4.000000   \n",
       "max         5.000000                          5.000000   \n",
       "\n",
       "       What would you rate the academic  competition in your student life  \\\n",
       "count                                         140.000000                    \n",
       "mean                                            3.492857                    \n",
       "std                                             1.028349                    \n",
       "min                                             1.000000                    \n",
       "25%                                             3.000000                    \n",
       "50%                                             4.000000                    \n",
       "75%                                             4.000000                    \n",
       "max                                             5.000000                    \n",
       "\n",
       "       Rate your academic stress index   \n",
       "count                        140.000000  \n",
       "mean                           3.721429  \n",
       "std                            1.032339  \n",
       "min                            1.000000  \n",
       "25%                            3.000000  \n",
       "50%                            4.000000  \n",
       "75%                            4.000000  \n",
       "max                            5.000000  "
      ]
     },
     "execution_count": 5,
     "metadata": {},
     "output_type": "execute_result"
    }
   ],
   "source": [
    "# Menampilkan deskripsi dari data numerik \n",
    "df.describe()"
   ]
  },
  {
   "cell_type": "code",
   "execution_count": 6,
   "id": "67187d44",
   "metadata": {},
   "outputs": [
    {
     "data": {
      "text/plain": [
       "(140, 9)"
      ]
     },
     "execution_count": 6,
     "metadata": {},
     "output_type": "execute_result"
    }
   ],
   "source": [
    "# menampilkan shape data\n",
    "df.shape"
   ]
  },
  {
   "cell_type": "code",
   "execution_count": 7,
   "id": "278997d1",
   "metadata": {},
   "outputs": [
    {
     "data": {
      "application/vnd.microsoft.datawrangler.viewer.v0+json": {
       "columns": [
        {
         "name": "index",
         "rawType": "object",
         "type": "string"
        },
        {
         "name": "0",
         "rawType": "int64",
         "type": "integer"
        }
       ],
       "ref": "0acc129c-d778-4f18-8880-ca296fbeb07d",
       "rows": [
        [
         "Timestamp",
         "140"
        ],
        [
         "Your Academic Stage",
         "3"
        ],
        [
         "Peer pressure",
         "5"
        ],
        [
         "Academic pressure from your home",
         "5"
        ],
        [
         "Study Environment",
         "3"
        ],
        [
         "What coping strategy you use as a student?",
         "3"
        ],
        [
         "Do you have any bad habits like smoking, drinking on a daily basis?",
         "3"
        ],
        [
         "What would you rate the academic  competition in your student life",
         "5"
        ],
        [
         "Rate your academic stress index ",
         "5"
        ]
       ],
       "shape": {
        "columns": 1,
        "rows": 9
       }
      },
      "text/plain": [
       "Timestamp                                                              140\n",
       "Your Academic Stage                                                      3\n",
       "Peer pressure                                                            5\n",
       "Academic pressure from your home                                         5\n",
       "Study Environment                                                        3\n",
       "What coping strategy you use as a student?                               3\n",
       "Do you have any bad habits like smoking, drinking on a daily basis?      3\n",
       "What would you rate the academic  competition in your student life       5\n",
       "Rate your academic stress index                                          5\n",
       "dtype: int64"
      ]
     },
     "execution_count": 7,
     "metadata": {},
     "output_type": "execute_result"
    }
   ],
   "source": [
    "df.nunique()"
   ]
  },
  {
   "cell_type": "code",
   "execution_count": 8,
   "id": "009467c4",
   "metadata": {},
   "outputs": [
    {
     "data": {
      "application/vnd.microsoft.datawrangler.viewer.v0+json": {
       "columns": [
        {
         "name": "('Timestamp', 'Your Academic Stage', 'Peer pressure', 'Academic pressure from your home', 'Study Environment', 'What coping strategy you use as a student?', 'Do you have any bad habits like smoking, drinking on a daily basis?', 'What would you rate the academic  competition in your student life', 'Rate your academic stress index ')",
         "rawType": "object",
         "type": "unknown"
        },
        {
         "name": "count",
         "rawType": "int64",
         "type": "integer"
        }
       ],
       "ref": "e87648b2-57f7-4554-9ef3-e74ffe8348b1",
       "rows": [
        [
         "('11/08/2025 12:15:00', 'post-graduate', np.int64(3), np.int64(4), 'Peaceful', 'Social support (friends, family)', 'No', np.int64(1), np.int64(4))",
         "1"
        ],
        [
         "('11/08/2025 18:07:26', 'undergraduate', np.int64(5), np.int64(1), 'Noisy', 'Analyze the situation and handle it with intellect', 'Yes', np.int64(5), np.int64(5))",
         "1"
        ],
        [
         "('11/08/2025 19:29:07', 'post-graduate', np.int64(3), np.int64(3), 'Peaceful', 'Analyze the situation and handle it with intellect', 'No', np.int64(3), np.int64(3))",
         "1"
        ],
        [
         "('12/08/2025 02:28:42', 'post-graduate', np.int64(3), np.int64(4), 'Peaceful', 'Social support (friends, family)', 'No', np.int64(2), np.int64(4))",
         "1"
        ],
        [
         "('12/08/2025 08:11:48', 'post-graduate', np.int64(3), np.int64(1), 'disrupted', 'Social support (friends, family)', 'No', np.int64(4), np.int64(5))",
         "1"
        ],
        [
         "('12/08/2025 08:49:45', 'high school', np.int64(4), np.int64(5), 'Noisy', 'Emotional breakdown (crying a lot)', 'No', np.int64(3), np.int64(5))",
         "1"
        ],
        [
         "('12/08/2025 08:56:07', 'undergraduate', np.int64(3), np.int64(5), 'Peaceful', 'Analyze the situation and handle it with intellect', 'Yes', np.int64(4), np.int64(5))",
         "1"
        ],
        [
         "('12/08/2025 10:03:58', 'undergraduate', np.int64(3), np.int64(4), 'disrupted', 'Social support (friends, family)', 'No', np.int64(2), np.int64(4))",
         "1"
        ],
        [
         "('12/08/2025 13:16:50', 'undergraduate', np.int64(2), np.int64(2), 'Noisy', 'Analyze the situation and handle it with intellect', 'No', np.int64(4), np.int64(4))",
         "1"
        ],
        [
         "('12/08/2025 15:01:20', 'high school', np.int64(4), np.int64(4), 'Peaceful', 'Analyze the situation and handle it with intellect', 'No', np.int64(3), np.int64(4))",
         "1"
        ],
        [
         "('13/08/2025 21:45:58', 'undergraduate', np.int64(1), np.int64(1), 'Peaceful', 'Analyze the situation and handle it with intellect', 'No', np.int64(2), np.int64(2))",
         "1"
        ],
        [
         "('14/08/2025 06:10:01', 'post-graduate', np.int64(4), np.int64(3), 'disrupted', 'Emotional breakdown (crying a lot)', 'Yes', np.int64(2), np.int64(4))",
         "1"
        ],
        [
         "('14/08/2025 21:06:15', 'undergraduate', np.int64(5), np.int64(3), 'disrupted', 'Analyze the situation and handle it with intellect', 'No', np.int64(2), np.int64(4))",
         "1"
        ],
        [
         "('17/08/2025 13:02:04', 'undergraduate', np.int64(3), np.int64(2), 'Peaceful', 'Analyze the situation and handle it with intellect', 'No', np.int64(3), np.int64(4))",
         "1"
        ],
        [
         "('18/08/2025 14:36:00', 'undergraduate', np.int64(4), np.int64(2), 'disrupted', 'Analyze the situation and handle it with intellect', 'No', np.int64(3), np.int64(3))",
         "1"
        ],
        [
         "('18/08/2025 17:13:52', 'undergraduate', np.int64(3), np.int64(3), 'Peaceful', 'Analyze the situation and handle it with intellect', 'No', np.int64(2), np.int64(4))",
         "1"
        ],
        [
         "('18/08/2025 19:08:52', 'undergraduate', np.int64(4), np.int64(5), 'disrupted', 'Social support (friends, family)', 'No', np.int64(5), np.int64(5))",
         "1"
        ],
        [
         "('18/08/2025 22:40:13', 'undergraduate', np.int64(4), np.int64(2), 'Peaceful', 'Social support (friends, family)', 'No', np.int64(4), np.int64(4))",
         "1"
        ],
        [
         "('24/07/2025 22:05:39', 'undergraduate', np.int64(4), np.int64(5), 'Noisy', 'Analyze the situation and handle it with intellect', 'No', np.int64(3), np.int64(5))",
         "1"
        ],
        [
         "('24/07/2025 22:05:52', 'undergraduate', np.int64(3), np.int64(4), 'Peaceful', 'Analyze the situation and handle it with intellect', 'No', np.int64(3), np.int64(3))",
         "1"
        ],
        [
         "('24/07/2025 22:06:39', 'undergraduate', np.int64(1), np.int64(1), 'Peaceful', 'Social support (friends, family)', 'No', np.int64(2), np.int64(4))",
         "1"
        ],
        [
         "('24/07/2025 22:06:45', 'undergraduate', np.int64(3), np.int64(2), 'Peaceful', 'Analyze the situation and handle it with intellect', 'No', np.int64(4), np.int64(3))",
         "1"
        ],
        [
         "('24/07/2025 22:08:06', 'undergraduate', np.int64(3), np.int64(3), 'Peaceful', 'Analyze the situation and handle it with intellect', 'No', np.int64(4), np.int64(5))",
         "1"
        ],
        [
         "('24/07/2025 22:08:13', 'undergraduate', np.int64(3), np.int64(3), 'Peaceful', 'Analyze the situation and handle it with intellect', 'No', np.int64(4), np.int64(4))",
         "1"
        ],
        [
         "('24/07/2025 22:09:21', 'undergraduate', np.int64(5), np.int64(5), 'disrupted', 'Emotional breakdown (crying a lot)', 'No', np.int64(4), np.int64(4))",
         "1"
        ],
        [
         "('24/07/2025 22:10:06', 'undergraduate', np.int64(3), np.int64(2), 'Peaceful', 'Social support (friends, family)', 'No', np.int64(3), np.int64(3))",
         "1"
        ],
        [
         "('24/07/2025 22:11:01', 'undergraduate', np.int64(2), np.int64(2), 'Peaceful', 'Analyze the situation and handle it with intellect', 'No', np.int64(2), np.int64(2))",
         "1"
        ],
        [
         "('24/07/2025 22:11:19', 'undergraduate', np.int64(2), np.int64(2), 'Peaceful', 'Analyze the situation and handle it with intellect', 'No', np.int64(4), np.int64(2))",
         "1"
        ],
        [
         "('24/07/2025 22:12:12', 'undergraduate', np.int64(3), np.int64(2), 'disrupted', 'Emotional breakdown (crying a lot)', 'No', np.int64(3), np.int64(5))",
         "1"
        ],
        [
         "('24/07/2025 22:12:24', 'undergraduate', np.int64(4), np.int64(5), 'Peaceful', 'Analyze the situation and handle it with intellect', 'No', np.int64(3), np.int64(3))",
         "1"
        ],
        [
         "('24/07/2025 22:12:27', 'undergraduate', np.int64(2), np.int64(3), 'Noisy', 'Emotional breakdown (crying a lot)', 'No', np.int64(2), np.int64(2))",
         "1"
        ],
        [
         "('24/07/2025 22:12:48', 'undergraduate', np.int64(2), np.int64(3), 'disrupted', 'Analyze the situation and handle it with intellect', 'No', np.int64(4), np.int64(2))",
         "1"
        ],
        [
         "('24/07/2025 22:14:16', 'undergraduate', np.int64(3), np.int64(4), 'disrupted', 'Social support (friends, family)', 'prefer not to say', np.int64(3), np.int64(4))",
         "1"
        ],
        [
         "('24/07/2025 22:15:06', 'undergraduate', np.int64(5), np.int64(5), 'Noisy', 'Analyze the situation and handle it with intellect', 'No', np.int64(4), np.int64(4))",
         "1"
        ],
        [
         "('24/07/2025 22:15:39', 'undergraduate', np.int64(3), np.int64(3), 'Peaceful', 'Analyze the situation and handle it with intellect', 'No', np.int64(5), np.int64(5))",
         "1"
        ],
        [
         "('24/07/2025 22:16:10', 'undergraduate', np.int64(3), np.int64(5), 'disrupted', 'Analyze the situation and handle it with intellect', 'No', np.int64(5), np.int64(4))",
         "1"
        ],
        [
         "('24/07/2025 22:16:53', 'undergraduate', np.int64(3), np.int64(3), 'Peaceful', 'Emotional breakdown (crying a lot)', 'No', np.int64(4), np.int64(3))",
         "1"
        ],
        [
         "('24/07/2025 22:17:46', 'undergraduate', np.int64(3), np.int64(4), 'Peaceful', 'Social support (friends, family)', 'No', np.int64(4), np.int64(3))",
         "1"
        ],
        [
         "('24/07/2025 22:18:02', 'undergraduate', np.int64(4), np.int64(3), 'Peaceful', 'Analyze the situation and handle it with intellect', 'No', np.int64(4), np.int64(4))",
         "1"
        ],
        [
         "('24/07/2025 22:18:44', 'undergraduate', np.int64(3), np.int64(3), 'Peaceful', 'Analyze the situation and handle it with intellect', 'No', np.int64(4), np.int64(3))",
         "1"
        ],
        [
         "('24/07/2025 22:18:55', 'undergraduate', np.int64(3), np.int64(3), 'Peaceful', 'Analyze the situation and handle it with intellect', 'No', np.int64(4), np.int64(3))",
         "1"
        ],
        [
         "('24/07/2025 22:18:58', 'undergraduate', np.int64(5), np.int64(1), 'disrupted', 'Analyze the situation and handle it with intellect', 'No', np.int64(5), np.int64(3))",
         "1"
        ],
        [
         "('24/07/2025 22:19:06', 'undergraduate', np.int64(4), np.int64(5), 'disrupted', 'Analyze the situation and handle it with intellect', 'No', np.int64(4), np.int64(4))",
         "1"
        ],
        [
         "('24/07/2025 22:19:22', 'undergraduate', np.int64(4), np.int64(3), 'Peaceful', 'Analyze the situation and handle it with intellect', 'No', np.int64(4), np.int64(4))",
         "1"
        ],
        [
         "('24/07/2025 22:19:25', 'undergraduate', np.int64(4), np.int64(5), 'disrupted', 'Analyze the situation and handle it with intellect', 'Yes', np.int64(4), np.int64(5))",
         "1"
        ],
        [
         "('24/07/2025 22:19:33', 'high school', np.int64(3), np.int64(4), 'disrupted', 'Analyze the situation and handle it with intellect', 'No', np.int64(3), np.int64(4))",
         "1"
        ],
        [
         "('24/07/2025 22:19:51', 'undergraduate', np.int64(5), np.int64(1), 'disrupted', 'Social support (friends, family)', 'No', np.int64(4), np.int64(5))",
         "1"
        ],
        [
         "('24/07/2025 22:20:28', 'undergraduate', np.int64(4), np.int64(3), 'Peaceful', 'Analyze the situation and handle it with intellect', 'No', np.int64(5), np.int64(4))",
         "1"
        ],
        [
         "('24/07/2025 22:21:04', 'undergraduate', np.int64(5), np.int64(5), 'disrupted', 'Emotional breakdown (crying a lot)', 'Yes', np.int64(5), np.int64(5))",
         "1"
        ],
        [
         "('24/07/2025 22:23:15', 'undergraduate', np.int64(3), np.int64(1), 'disrupted', 'Emotional breakdown (crying a lot)', 'No', np.int64(4), np.int64(4))",
         "1"
        ]
       ],
       "shape": {
        "columns": 1,
        "rows": 139
       }
      },
      "text/plain": [
       "Timestamp            Your Academic Stage  Peer pressure  Academic pressure from your home  Study Environment  What coping strategy you use as a student?          Do you have any bad habits like smoking, drinking on a daily basis?  What would you rate the academic  competition in your student life  Rate your academic stress index \n",
       "11/08/2025 12:15:00  post-graduate        3              4                                 Peaceful           Social support (friends, family)                    No                                                                   1                                                                   4                                   1\n",
       "11/08/2025 18:07:26  undergraduate        5              1                                 Noisy              Analyze the situation and handle it with intellect  Yes                                                                  5                                                                   5                                   1\n",
       "11/08/2025 19:29:07  post-graduate        3              3                                 Peaceful           Analyze the situation and handle it with intellect  No                                                                   3                                                                   3                                   1\n",
       "12/08/2025 02:28:42  post-graduate        3              4                                 Peaceful           Social support (friends, family)                    No                                                                   2                                                                   4                                   1\n",
       "12/08/2025 08:11:48  post-graduate        3              1                                 disrupted          Social support (friends, family)                    No                                                                   4                                                                   5                                   1\n",
       "                                                                                                                                                                                                                                                                                                                                              ..\n",
       "26/07/2025 22:11:02  high school          3              1                                 Noisy              Analyze the situation and handle it with intellect  No                                                                   4                                                                   4                                   1\n",
       "27/07/2025 13:45:00  undergraduate        2              3                                 Noisy              Analyze the situation and handle it with intellect  No                                                                   3                                                                   5                                   1\n",
       "27/07/2025 22:56:54  high school          2              2                                 Peaceful           Analyze the situation and handle it with intellect  No                                                                   4                                                                   4                                   1\n",
       "30/07/2025 06:43:55  high school          4              5                                 Peaceful           Analyze the situation and handle it with intellect  No                                                                   3                                                                   5                                   1\n",
       "30/07/2025 16:02:16  undergraduate        4              4                                 disrupted          Analyze the situation and handle it with intellect  No                                                                   4                                                                   4                                   1\n",
       "Name: count, Length: 139, dtype: int64"
      ]
     },
     "execution_count": 8,
     "metadata": {},
     "output_type": "execute_result"
    }
   ],
   "source": [
    "df.value_counts()"
   ]
  },
  {
   "cell_type": "markdown",
   "id": "fd590c35",
   "metadata": {},
   "source": [
    "# 4. Data Cleaning (Pembersihan Data)\n",
    "- Menangani missing values.\n",
    "- Mengatasi duplikasi data.\n",
    "- Menyesuaikan tipe data (numerik, kategori, datetime).\n",
    "- Membersihkan nilai outlier bila diperlukan."
   ]
  },
  {
   "cell_type": "code",
   "execution_count": 9,
   "id": "671ff897",
   "metadata": {},
   "outputs": [],
   "source": [
    "# Menhapus column yang tidak relevan\n",
    "df = df.drop(columns=[\"Timestamp\"])"
   ]
  },
  {
   "cell_type": "code",
   "execution_count": 10,
   "id": "d6e085ad",
   "metadata": {},
   "outputs": [
    {
     "name": "stdout",
     "output_type": "stream",
     "text": [
      "Your Academic Stage                                                    0\n",
      "Peer pressure                                                          0\n",
      "Academic pressure from your home                                       0\n",
      "Study Environment                                                      1\n",
      "What coping strategy you use as a student?                             0\n",
      "Do you have any bad habits like smoking, drinking on a daily basis?    0\n",
      "What would you rate the academic  competition in your student life     0\n",
      "Rate your academic stress index                                        0\n",
      "dtype: int64\n"
     ]
    }
   ],
   "source": [
    "# Melihat data yang  terindikasi null atau kosong\n",
    "print(df.isnull().sum())"
   ]
  },
  {
   "cell_type": "code",
   "execution_count": 11,
   "id": "41b995c6",
   "metadata": {},
   "outputs": [
    {
     "name": "stdout",
     "output_type": "stream",
     "text": [
      "Your Academic Stage                                                    0.000000\n",
      "Peer pressure                                                          0.000000\n",
      "Academic pressure from your home                                       0.000000\n",
      "Study Environment                                                      0.714286\n",
      "What coping strategy you use as a student?                             0.000000\n",
      "Do you have any bad habits like smoking, drinking on a daily basis?    0.000000\n",
      "What would you rate the academic  competition in your student life     0.000000\n",
      "Rate your academic stress index                                        0.000000\n",
      "dtype: float64\n"
     ]
    }
   ],
   "source": [
    "# menghitung berapa persen data yang terindikasi kosong\n",
    "missing_values = (df.isnull().sum() / len(df)) * 100\n",
    "print(missing_values)"
   ]
  },
  {
   "cell_type": "code",
   "execution_count": 12,
   "id": "b32f31ce",
   "metadata": {},
   "outputs": [
    {
     "data": {
      "application/vnd.microsoft.datawrangler.viewer.v0+json": {
       "columns": [
        {
         "name": "index",
         "rawType": "object",
         "type": "string"
        },
        {
         "name": "0",
         "rawType": "int64",
         "type": "integer"
        }
       ],
       "ref": "a9108c18-0a00-40a1-8c4d-e518d2521ef8",
       "rows": [
        [
         "Your Academic Stage",
         "0"
        ],
        [
         "Peer pressure",
         "0"
        ],
        [
         "Academic pressure from your home",
         "0"
        ],
        [
         "Study Environment",
         "0"
        ],
        [
         "What coping strategy you use as a student?",
         "0"
        ],
        [
         "Do you have any bad habits like smoking, drinking on a daily basis?",
         "0"
        ],
        [
         "What would you rate the academic  competition in your student life",
         "0"
        ],
        [
         "Rate your academic stress index ",
         "0"
        ]
       ],
       "shape": {
        "columns": 1,
        "rows": 8
       }
      },
      "text/plain": [
       "Your Academic Stage                                                    0\n",
       "Peer pressure                                                          0\n",
       "Academic pressure from your home                                       0\n",
       "Study Environment                                                      0\n",
       "What coping strategy you use as a student?                             0\n",
       "Do you have any bad habits like smoking, drinking on a daily basis?    0\n",
       "What would you rate the academic  competition in your student life     0\n",
       "Rate your academic stress index                                        0\n",
       "dtype: int64"
      ]
     },
     "execution_count": 12,
     "metadata": {},
     "output_type": "execute_result"
    }
   ],
   "source": [
    "# Mengatasi Nilai kosong\n",
    "df = df.dropna()\n",
    "\n",
    "# Mengisi values dengan nilai rata rata\n",
    "#df.fillna(df.mean(), inplace=True) # untuk numerikal\n",
    "#df.fillna(df.mode().iloc[0], inplace=True) # untuk categorikal\n",
    "\n",
    "# cek kembali missing values\n",
    "df.isna().sum()"
   ]
  },
  {
   "cell_type": "code",
   "execution_count": 13,
   "id": "854a9ec8",
   "metadata": {},
   "outputs": [
    {
     "data": {
      "text/plain": [
       "np.int64(8)"
      ]
     },
     "execution_count": 13,
     "metadata": {},
     "output_type": "execute_result"
    }
   ],
   "source": [
    "# melihat data yang terindikasi duplikat\n",
    "df.duplicated().sum()"
   ]
  },
  {
   "cell_type": "code",
   "execution_count": 14,
   "id": "123ebb0b",
   "metadata": {},
   "outputs": [
    {
     "data": {
      "image/png": "[encoded data removed]",
      "text/plain": [
       "<Figure size 1200x600 with 1 Axes>"
      ]
     },
     "metadata": {},
     "output_type": "display_data"
    }
   ],
   "source": [
    "# mengecek data outliers dengan boxplot \n",
    "numeric_df = df.select_dtypes(include=['int64','float64'])\n",
    "\n",
    "plt.figure(figsize=(12,6))\n",
    "sns.boxplot(data=numeric_df)\n",
    "plt.xticks(rotation=45)\n",
    "plt.title(\"Boxplot semua kolom numerik\")\n",
    "plt.show()"
   ]
  },
  {
   "cell_type": "code",
   "execution_count": 15,
   "id": "891cad7c",
   "metadata": {},
   "outputs": [
    {
     "name": "stdout",
     "output_type": "stream",
     "text": [
      "Jumlah data awal :  139\n",
      "Jumlah data bersih :  132\n",
      "jumlah data outliers :  7\n"
     ]
    }
   ],
   "source": [
    "# Cek outliers dengan IQR\n",
    "Q1 = numeric_df.quantile(0.25, numeric_only=True)\n",
    "Q3 = numeric_df.quantile(0.75, numeric_only=True)\n",
    "IQR = Q3 - Q1\n",
    "\n",
    "# hitung batas bawah dan atas\n",
    "lower_bound = Q1 - 1.5 * IQR\n",
    "upper_bound = Q3 + 1.5 * IQR\n",
    "\n",
    "# Identifikasi outliers pada kolom numerik\n",
    "outliers = ((numeric_df < lower_bound) | (numeric_df> upper_bound)).sum()\n",
    "\n",
    "# Memfilter data yang bukan outliers\n",
    "df_no_outliers = df[~((numeric_df < lower_bound) | (numeric_df > upper_bound)).any(axis=1)]\n",
    "\n",
    "# Menampilkan jumlah data outliers\n",
    "print(\"Jumlah data awal : \", len(df))\n",
    "print(\"Jumlah data bersih : \", len(df_no_outliers))\n",
    "print(\"jumlah data outliers : \", len(df) - len(df_no_outliers))"
   ]
  },
  {
   "cell_type": "markdown",
   "id": "3d8d0e0b",
   "metadata": {},
   "source": [
    "# 5. Data Transformation / Preprocessing\n",
    "- Encoding variabel kategorikal (Label Encoding, One-Hot Encoding).\n",
    "- Normalisasi atau standarisasi data numerik.\n",
    "- Feature engineering (membuat fitur baru dari data yang ada)."
   ]
  },
  {
   "cell_type": "code",
   "execution_count": 16,
   "id": "f359894e",
   "metadata": {},
   "outputs": [
    {
     "data": {
      "application/vnd.microsoft.datawrangler.viewer.v0+json": {
       "columns": [
        {
         "name": "index",
         "rawType": "int64",
         "type": "integer"
        },
        {
         "name": "Peer pressure",
         "rawType": "int64",
         "type": "integer"
        },
        {
         "name": "Academic pressure from your home",
         "rawType": "int64",
         "type": "integer"
        },
        {
         "name": "What would you rate the academic  competition in your student life",
         "rawType": "int64",
         "type": "integer"
        },
        {
         "name": "Rate your academic stress index ",
         "rawType": "int64",
         "type": "integer"
        },
        {
         "name": "Your Academic Stage_high school",
         "rawType": "bool",
         "type": "boolean"
        },
        {
         "name": "Your Academic Stage_post-graduate",
         "rawType": "bool",
         "type": "boolean"
        },
        {
         "name": "Your Academic Stage_undergraduate",
         "rawType": "bool",
         "type": "boolean"
        },
        {
         "name": "Study Environment_Noisy",
         "rawType": "bool",
         "type": "boolean"
        },
        {
         "name": "Study Environment_Peaceful",
         "rawType": "bool",
         "type": "boolean"
        },
        {
         "name": "Study Environment_disrupted",
         "rawType": "bool",
         "type": "boolean"
        },
        {
         "name": "What coping strategy you use as a student?_Analyze the situation and handle it with intellect",
         "rawType": "bool",
         "type": "boolean"
        },
        {
         "name": "What coping strategy you use as a student?_Emotional breakdown (crying a lot)",
         "rawType": "bool",
         "type": "boolean"
        },
        {
         "name": "What coping strategy you use as a student?_Social support (friends, family)",
         "rawType": "bool",
         "type": "boolean"
        },
        {
         "name": "Do you have any bad habits like smoking, drinking on a daily basis?_No",
         "rawType": "bool",
         "type": "boolean"
        },
        {
         "name": "Do you have any bad habits like smoking, drinking on a daily basis?_Yes",
         "rawType": "bool",
         "type": "boolean"
        },
        {
         "name": "Do you have any bad habits like smoking, drinking on a daily basis?_prefer not to say",
         "rawType": "bool",
         "type": "boolean"
        }
       ],
       "ref": "65f68836-b586-4f68-9903-3ff28103112f",
       "rows": [
        [
         "0",
         "4",
         "5",
         "3",
         "5",
         "False",
         "False",
         "True",
         "True",
         "False",
         "False",
         "True",
         "False",
         "False",
         "True",
         "False",
         "False"
        ],
        [
         "1",
         "3",
         "4",
         "3",
         "3",
         "False",
         "False",
         "True",
         "False",
         "True",
         "False",
         "True",
         "False",
         "False",
         "True",
         "False",
         "False"
        ],
        [
         "2",
         "1",
         "1",
         "2",
         "4",
         "False",
         "False",
         "True",
         "False",
         "True",
         "False",
         "False",
         "False",
         "True",
         "True",
         "False",
         "False"
        ],
        [
         "3",
         "3",
         "2",
         "4",
         "3",
         "False",
         "False",
         "True",
         "False",
         "True",
         "False",
         "True",
         "False",
         "False",
         "True",
         "False",
         "False"
        ],
        [
         "4",
         "3",
         "3",
         "4",
         "5",
         "False",
         "False",
         "True",
         "False",
         "True",
         "False",
         "True",
         "False",
         "False",
         "True",
         "False",
         "False"
        ],
        [
         "5",
         "3",
         "3",
         "4",
         "4",
         "False",
         "False",
         "True",
         "False",
         "True",
         "False",
         "True",
         "False",
         "False",
         "True",
         "False",
         "False"
        ],
        [
         "6",
         "5",
         "5",
         "4",
         "4",
         "False",
         "False",
         "True",
         "False",
         "False",
         "True",
         "False",
         "True",
         "False",
         "True",
         "False",
         "False"
        ],
        [
         "7",
         "3",
         "2",
         "3",
         "3",
         "False",
         "False",
         "True",
         "False",
         "True",
         "False",
         "False",
         "False",
         "True",
         "True",
         "False",
         "False"
        ],
        [
         "8",
         "2",
         "2",
         "2",
         "2",
         "False",
         "False",
         "True",
         "False",
         "True",
         "False",
         "True",
         "False",
         "False",
         "True",
         "False",
         "False"
        ],
        [
         "9",
         "2",
         "2",
         "4",
         "2",
         "False",
         "False",
         "True",
         "False",
         "True",
         "False",
         "True",
         "False",
         "False",
         "True",
         "False",
         "False"
        ],
        [
         "10",
         "3",
         "2",
         "3",
         "5",
         "False",
         "False",
         "True",
         "False",
         "False",
         "True",
         "False",
         "True",
         "False",
         "True",
         "False",
         "False"
        ],
        [
         "11",
         "4",
         "5",
         "3",
         "3",
         "False",
         "False",
         "True",
         "False",
         "True",
         "False",
         "True",
         "False",
         "False",
         "True",
         "False",
         "False"
        ],
        [
         "12",
         "2",
         "3",
         "2",
         "2",
         "False",
         "False",
         "True",
         "True",
         "False",
         "False",
         "False",
         "True",
         "False",
         "True",
         "False",
         "False"
        ],
        [
         "13",
         "2",
         "3",
         "4",
         "2",
         "False",
         "False",
         "True",
         "False",
         "False",
         "True",
         "True",
         "False",
         "False",
         "True",
         "False",
         "False"
        ],
        [
         "14",
         "3",
         "4",
         "3",
         "4",
         "False",
         "False",
         "True",
         "False",
         "False",
         "True",
         "False",
         "False",
         "True",
         "False",
         "False",
         "True"
        ],
        [
         "15",
         "5",
         "5",
         "4",
         "4",
         "False",
         "False",
         "True",
         "True",
         "False",
         "False",
         "True",
         "False",
         "False",
         "True",
         "False",
         "False"
        ],
        [
         "16",
         "3",
         "3",
         "5",
         "5",
         "False",
         "False",
         "True",
         "False",
         "True",
         "False",
         "True",
         "False",
         "False",
         "True",
         "False",
         "False"
        ],
        [
         "17",
         "3",
         "5",
         "5",
         "4",
         "False",
         "False",
         "True",
         "False",
         "False",
         "True",
         "True",
         "False",
         "False",
         "True",
         "False",
         "False"
        ],
        [
         "18",
         "3",
         "3",
         "4",
         "3",
         "False",
         "False",
         "True",
         "False",
         "True",
         "False",
         "False",
         "True",
         "False",
         "True",
         "False",
         "False"
        ],
        [
         "19",
         "3",
         "4",
         "4",
         "3",
         "False",
         "False",
         "True",
         "False",
         "True",
         "False",
         "False",
         "False",
         "True",
         "True",
         "False",
         "False"
        ],
        [
         "20",
         "4",
         "3",
         "4",
         "4",
         "False",
         "False",
         "True",
         "False",
         "True",
         "False",
         "True",
         "False",
         "False",
         "True",
         "False",
         "False"
        ],
        [
         "21",
         "3",
         "3",
         "4",
         "3",
         "False",
         "False",
         "True",
         "False",
         "True",
         "False",
         "True",
         "False",
         "False",
         "True",
         "False",
         "False"
        ],
        [
         "22",
         "3",
         "3",
         "4",
         "3",
         "False",
         "False",
         "True",
         "False",
         "True",
         "False",
         "True",
         "False",
         "False",
         "True",
         "False",
         "False"
        ],
        [
         "23",
         "5",
         "1",
         "5",
         "3",
         "False",
         "False",
         "True",
         "False",
         "False",
         "True",
         "True",
         "False",
         "False",
         "True",
         "False",
         "False"
        ],
        [
         "24",
         "4",
         "5",
         "4",
         "4",
         "False",
         "False",
         "True",
         "False",
         "False",
         "True",
         "True",
         "False",
         "False",
         "True",
         "False",
         "False"
        ],
        [
         "25",
         "4",
         "3",
         "4",
         "4",
         "False",
         "False",
         "True",
         "False",
         "True",
         "False",
         "True",
         "False",
         "False",
         "True",
         "False",
         "False"
        ],
        [
         "26",
         "4",
         "5",
         "4",
         "5",
         "False",
         "False",
         "True",
         "False",
         "False",
         "True",
         "True",
         "False",
         "False",
         "False",
         "True",
         "False"
        ],
        [
         "27",
         "3",
         "4",
         "3",
         "4",
         "True",
         "False",
         "False",
         "False",
         "False",
         "True",
         "True",
         "False",
         "False",
         "True",
         "False",
         "False"
        ],
        [
         "28",
         "5",
         "1",
         "4",
         "5",
         "False",
         "False",
         "True",
         "False",
         "False",
         "True",
         "False",
         "False",
         "True",
         "True",
         "False",
         "False"
        ],
        [
         "29",
         "4",
         "3",
         "5",
         "4",
         "False",
         "False",
         "True",
         "False",
         "True",
         "False",
         "True",
         "False",
         "False",
         "True",
         "False",
         "False"
        ],
        [
         "30",
         "5",
         "5",
         "5",
         "5",
         "False",
         "False",
         "True",
         "False",
         "False",
         "True",
         "False",
         "True",
         "False",
         "False",
         "True",
         "False"
        ],
        [
         "31",
         "3",
         "1",
         "4",
         "4",
         "False",
         "False",
         "True",
         "False",
         "False",
         "True",
         "False",
         "True",
         "False",
         "True",
         "False",
         "False"
        ],
        [
         "32",
         "3",
         "2",
         "4",
         "3",
         "False",
         "False",
         "True",
         "False",
         "True",
         "False",
         "False",
         "True",
         "False",
         "True",
         "False",
         "False"
        ],
        [
         "34",
         "1",
         "1",
         "4",
         "3",
         "False",
         "False",
         "True",
         "False",
         "True",
         "False",
         "False",
         "False",
         "True",
         "False",
         "False",
         "True"
        ],
        [
         "35",
         "3",
         "4",
         "5",
         "4",
         "False",
         "False",
         "True",
         "True",
         "False",
         "False",
         "True",
         "False",
         "False",
         "True",
         "False",
         "False"
        ],
        [
         "36",
         "4",
         "5",
         "2",
         "3",
         "False",
         "False",
         "True",
         "False",
         "False",
         "True",
         "False",
         "True",
         "False",
         "False",
         "True",
         "False"
        ],
        [
         "37",
         "1",
         "4",
         "4",
         "4",
         "False",
         "False",
         "True",
         "False",
         "True",
         "False",
         "True",
         "False",
         "False",
         "True",
         "False",
         "False"
        ],
        [
         "38",
         "3",
         "4",
         "3",
         "4",
         "False",
         "False",
         "True",
         "False",
         "True",
         "False",
         "True",
         "False",
         "False",
         "True",
         "False",
         "False"
        ],
        [
         "39",
         "3",
         "2",
         "3",
         "4",
         "False",
         "False",
         "True",
         "False",
         "True",
         "False",
         "False",
         "False",
         "True",
         "True",
         "False",
         "False"
        ],
        [
         "40",
         "3",
         "4",
         "5",
         "5",
         "False",
         "False",
         "True",
         "False",
         "False",
         "True",
         "True",
         "False",
         "False",
         "True",
         "False",
         "False"
        ],
        [
         "41",
         "3",
         "5",
         "3",
         "3",
         "False",
         "True",
         "False",
         "False",
         "True",
         "False",
         "True",
         "False",
         "False",
         "True",
         "False",
         "False"
        ],
        [
         "42",
         "3",
         "5",
         "4",
         "5",
         "False",
         "False",
         "True",
         "False",
         "True",
         "False",
         "True",
         "False",
         "False",
         "True",
         "False",
         "False"
        ],
        [
         "43",
         "5",
         "4",
         "5",
         "5",
         "False",
         "False",
         "True",
         "False",
         "False",
         "True",
         "False",
         "True",
         "False",
         "True",
         "False",
         "False"
        ],
        [
         "44",
         "4",
         "2",
         "2",
         "2",
         "False",
         "False",
         "True",
         "True",
         "False",
         "False",
         "True",
         "False",
         "False",
         "True",
         "False",
         "False"
        ],
        [
         "45",
         "3",
         "2",
         "4",
         "3",
         "False",
         "False",
         "True",
         "False",
         "True",
         "False",
         "True",
         "False",
         "False",
         "True",
         "False",
         "False"
        ],
        [
         "46",
         "5",
         "5",
         "4",
         "5",
         "False",
         "False",
         "True",
         "True",
         "False",
         "False",
         "False",
         "True",
         "False",
         "False",
         "False",
         "True"
        ],
        [
         "47",
         "2",
         "4",
         "4",
         "4",
         "False",
         "False",
         "True",
         "False",
         "True",
         "False",
         "True",
         "False",
         "False",
         "True",
         "False",
         "False"
        ],
        [
         "48",
         "3",
         "4",
         "4",
         "5",
         "False",
         "False",
         "True",
         "True",
         "False",
         "False",
         "False",
         "True",
         "False",
         "False",
         "True",
         "False"
        ],
        [
         "49",
         "2",
         "3",
         "2",
         "3",
         "False",
         "False",
         "True",
         "False",
         "False",
         "True",
         "False",
         "False",
         "True",
         "True",
         "False",
         "False"
        ],
        [
         "50",
         "3",
         "3",
         "4",
         "3",
         "False",
         "False",
         "True",
         "False",
         "True",
         "False",
         "True",
         "False",
         "False",
         "True",
         "False",
         "False"
        ]
       ],
       "shape": {
        "columns": 16,
        "rows": 132
       }
      },
      "text/html": [
       "<div>\n",
       "<style scoped>\n",
       "    .dataframe tbody tr th:only-of-type {\n",
       "        vertical-align: middle;\n",
       "    }\n",
       "\n",
       "    .dataframe tbody tr th {\n",
       "        vertical-align: top;\n",
       "    }\n",
       "\n",
       "    .dataframe thead th {\n",
       "        text-align: right;\n",
       "    }\n",
       "</style>\n",
       "<table border=\"1\" class=\"dataframe\">\n",
       "  <thead>\n",
       "    <tr style=\"text-align: right;\">\n",
       "      <th></th>\n",
       "      <th>Peer pressure</th>\n",
       "      <th>Academic pressure from your home</th>\n",
       "      <th>What would you rate the academic  competition in your student life</th>\n",
       "      <th>Rate your academic stress index</th>\n",
       "      <th>Your Academic Stage_high school</th>\n",
       "      <th>Your Academic Stage_post-graduate</th>\n",
       "      <th>Your Academic Stage_undergraduate</th>\n",
       "      <th>Study Environment_Noisy</th>\n",
       "      <th>Study Environment_Peaceful</th>\n",
       "      <th>Study Environment_disrupted</th>\n",
       "      <th>What coping strategy you use as a student?_Analyze the situation and handle it with intellect</th>\n",
       "      <th>What coping strategy you use as a student?_Emotional breakdown (crying a lot)</th>\n",
       "      <th>What coping strategy you use as a student?_Social support (friends, family)</th>\n",
       "      <th>Do you have any bad habits like smoking, drinking on a daily basis?_No</th>\n",
       "      <th>Do you have any bad habits like smoking, drinking on a daily basis?_Yes</th>\n",
       "      <th>Do you have any bad habits like smoking, drinking on a daily basis?_prefer not to say</th>\n",
       "    </tr>\n",
       "  </thead>\n",
       "  <tbody>\n",
       "    <tr>\n",
       "      <th>0</th>\n",
       "      <td>4</td>\n",
       "      <td>5</td>\n",
       "      <td>3</td>\n",
       "      <td>5</td>\n",
       "      <td>False</td>\n",
       "      <td>False</td>\n",
       "      <td>True</td>\n",
       "      <td>True</td>\n",
       "      <td>False</td>\n",
       "      <td>False</td>\n",
       "      <td>True</td>\n",
       "      <td>False</td>\n",
       "      <td>False</td>\n",
       "      <td>True</td>\n",
       "      <td>False</td>\n",
       "      <td>False</td>\n",
       "    </tr>\n",
       "    <tr>\n",
       "      <th>1</th>\n",
       "      <td>3</td>\n",
       "      <td>4</td>\n",
       "      <td>3</td>\n",
       "      <td>3</td>\n",
       "      <td>False</td>\n",
       "      <td>False</td>\n",
       "      <td>True</td>\n",
       "      <td>False</td>\n",
       "      <td>True</td>\n",
       "      <td>False</td>\n",
       "      <td>True</td>\n",
       "      <td>False</td>\n",
       "      <td>False</td>\n",
       "      <td>True</td>\n",
       "      <td>False</td>\n",
       "      <td>False</td>\n",
       "    </tr>\n",
       "    <tr>\n",
       "      <th>2</th>\n",
       "      <td>1</td>\n",
       "      <td>1</td>\n",
       "      <td>2</td>\n",
       "      <td>4</td>\n",
       "      <td>False</td>\n",
       "      <td>False</td>\n",
       "      <td>True</td>\n",
       "      <td>False</td>\n",
       "      <td>True</td>\n",
       "      <td>False</td>\n",
       "      <td>False</td>\n",
       "      <td>False</td>\n",
       "      <td>True</td>\n",
       "      <td>True</td>\n",
       "      <td>False</td>\n",
       "      <td>False</td>\n",
       "    </tr>\n",
       "    <tr>\n",
       "      <th>3</th>\n",
       "      <td>3</td>\n",
       "      <td>2</td>\n",
       "      <td>4</td>\n",
       "      <td>3</td>\n",
       "      <td>False</td>\n",
       "      <td>False</td>\n",
       "      <td>True</td>\n",
       "      <td>False</td>\n",
       "      <td>True</td>\n",
       "      <td>False</td>\n",
       "      <td>True</td>\n",
       "      <td>False</td>\n",
       "      <td>False</td>\n",
       "      <td>True</td>\n",
       "      <td>False</td>\n",
       "      <td>False</td>\n",
       "    </tr>\n",
       "    <tr>\n",
       "      <th>4</th>\n",
       "      <td>3</td>\n",
       "      <td>3</td>\n",
       "      <td>4</td>\n",
       "      <td>5</td>\n",
       "      <td>False</td>\n",
       "      <td>False</td>\n",
       "      <td>True</td>\n",
       "      <td>False</td>\n",
       "      <td>True</td>\n",
       "      <td>False</td>\n",
       "      <td>True</td>\n",
       "      <td>False</td>\n",
       "      <td>False</td>\n",
       "      <td>True</td>\n",
       "      <td>False</td>\n",
       "      <td>False</td>\n",
       "    </tr>\n",
       "    <tr>\n",
       "      <th>...</th>\n",
       "      <td>...</td>\n",
       "      <td>...</td>\n",
       "      <td>...</td>\n",
       "      <td>...</td>\n",
       "      <td>...</td>\n",
       "      <td>...</td>\n",
       "      <td>...</td>\n",
       "      <td>...</td>\n",
       "      <td>...</td>\n",
       "      <td>...</td>\n",
       "      <td>...</td>\n",
       "      <td>...</td>\n",
       "      <td>...</td>\n",
       "      <td>...</td>\n",
       "      <td>...</td>\n",
       "      <td>...</td>\n",
       "    </tr>\n",
       "    <tr>\n",
       "      <th>135</th>\n",
       "      <td>3</td>\n",
       "      <td>2</td>\n",
       "      <td>3</td>\n",
       "      <td>4</td>\n",
       "      <td>False</td>\n",
       "      <td>False</td>\n",
       "      <td>True</td>\n",
       "      <td>False</td>\n",
       "      <td>True</td>\n",
       "      <td>False</td>\n",
       "      <td>True</td>\n",
       "      <td>False</td>\n",
       "      <td>False</td>\n",
       "      <td>True</td>\n",
       "      <td>False</td>\n",
       "      <td>False</td>\n",
       "    </tr>\n",
       "    <tr>\n",
       "      <th>136</th>\n",
       "      <td>4</td>\n",
       "      <td>2</td>\n",
       "      <td>3</td>\n",
       "      <td>3</td>\n",
       "      <td>False</td>\n",
       "      <td>False</td>\n",
       "      <td>True</td>\n",
       "      <td>False</td>\n",
       "      <td>False</td>\n",
       "      <td>True</td>\n",
       "      <td>True</td>\n",
       "      <td>False</td>\n",
       "      <td>False</td>\n",
       "      <td>True</td>\n",
       "      <td>False</td>\n",
       "      <td>False</td>\n",
       "    </tr>\n",
       "    <tr>\n",
       "      <th>137</th>\n",
       "      <td>3</td>\n",
       "      <td>3</td>\n",
       "      <td>2</td>\n",
       "      <td>4</td>\n",
       "      <td>False</td>\n",
       "      <td>False</td>\n",
       "      <td>True</td>\n",
       "      <td>False</td>\n",
       "      <td>True</td>\n",
       "      <td>False</td>\n",
       "      <td>True</td>\n",
       "      <td>False</td>\n",
       "      <td>False</td>\n",
       "      <td>True</td>\n",
       "      <td>False</td>\n",
       "      <td>False</td>\n",
       "    </tr>\n",
       "    <tr>\n",
       "      <th>138</th>\n",
       "      <td>4</td>\n",
       "      <td>5</td>\n",
       "      <td>5</td>\n",
       "      <td>5</td>\n",
       "      <td>False</td>\n",
       "      <td>False</td>\n",
       "      <td>True</td>\n",
       "      <td>False</td>\n",
       "      <td>False</td>\n",
       "      <td>True</td>\n",
       "      <td>False</td>\n",
       "      <td>False</td>\n",
       "      <td>True</td>\n",
       "      <td>True</td>\n",
       "      <td>False</td>\n",
       "      <td>False</td>\n",
       "    </tr>\n",
       "    <tr>\n",
       "      <th>139</th>\n",
       "      <td>4</td>\n",
       "      <td>2</td>\n",
       "      <td>4</td>\n",
       "      <td>4</td>\n",
       "      <td>False</td>\n",
       "      <td>False</td>\n",
       "      <td>True</td>\n",
       "      <td>False</td>\n",
       "      <td>True</td>\n",
       "      <td>False</td>\n",
       "      <td>False</td>\n",
       "      <td>False</td>\n",
       "      <td>True</td>\n",
       "      <td>True</td>\n",
       "      <td>False</td>\n",
       "      <td>False</td>\n",
       "    </tr>\n",
       "  </tbody>\n",
       "</table>\n",
       "<p>132 rows × 16 columns</p>\n",
       "</div>"
      ],
      "text/plain": [
       "     Peer pressure  Academic pressure from your home  \\\n",
       "0                4                                 5   \n",
       "1                3                                 4   \n",
       "2                1                                 1   \n",
       "3                3                                 2   \n",
       "4                3                                 3   \n",
       "..             ...                               ...   \n",
       "135              3                                 2   \n",
       "136              4                                 2   \n",
       "137              3                                 3   \n",
       "138              4                                 5   \n",
       "139              4                                 2   \n",
       "\n",
       "     What would you rate the academic  competition in your student life  \\\n",
       "0                                                    3                    \n",
       "1                                                    3                    \n",
       "2                                                    2                    \n",
       "3                                                    4                    \n",
       "4                                                    4                    \n",
       "..                                                 ...                    \n",
       "135                                                  3                    \n",
       "136                                                  3                    \n",
       "137                                                  2                    \n",
       "138                                                  5                    \n",
       "139                                                  4                    \n",
       "\n",
       "     Rate your academic stress index   Your Academic Stage_high school  \\\n",
       "0                                   5                            False   \n",
       "1                                   3                            False   \n",
       "2                                   4                            False   \n",
       "3                                   3                            False   \n",
       "4                                   5                            False   \n",
       "..                                ...                              ...   \n",
       "135                                 4                            False   \n",
       "136                                 3                            False   \n",
       "137                                 4                            False   \n",
       "138                                 5                            False   \n",
       "139                                 4                            False   \n",
       "\n",
       "     Your Academic Stage_post-graduate  Your Academic Stage_undergraduate  \\\n",
       "0                                False                               True   \n",
       "1                                False                               True   \n",
       "2                                False                               True   \n",
       "3                                False                               True   \n",
       "4                                False                               True   \n",
       "..                                 ...                                ...   \n",
       "135                              False                               True   \n",
       "136                              False                               True   \n",
       "137                              False                               True   \n",
       "138                              False                               True   \n",
       "139                              False                               True   \n",
       "\n",
       "     Study Environment_Noisy  Study Environment_Peaceful  \\\n",
       "0                       True                       False   \n",
       "1                      False                        True   \n",
       "2                      False                        True   \n",
       "3                      False                        True   \n",
       "4                      False                        True   \n",
       "..                       ...                         ...   \n",
       "135                    False                        True   \n",
       "136                    False                       False   \n",
       "137                    False                        True   \n",
       "138                    False                       False   \n",
       "139                    False                        True   \n",
       "\n",
       "     Study Environment_disrupted  \\\n",
       "0                          False   \n",
       "1                          False   \n",
       "2                          False   \n",
       "3                          False   \n",
       "4                          False   \n",
       "..                           ...   \n",
       "135                        False   \n",
       "136                         True   \n",
       "137                        False   \n",
       "138                         True   \n",
       "139                        False   \n",
       "\n",
       "     What coping strategy you use as a student?_Analyze the situation and handle it with intellect  \\\n",
       "0                                                 True                                               \n",
       "1                                                 True                                               \n",
       "2                                                False                                               \n",
       "3                                                 True                                               \n",
       "4                                                 True                                               \n",
       "..                                                 ...                                               \n",
       "135                                               True                                               \n",
       "136                                               True                                               \n",
       "137                                               True                                               \n",
       "138                                              False                                               \n",
       "139                                              False                                               \n",
       "\n",
       "     What coping strategy you use as a student?_Emotional breakdown (crying a lot)  \\\n",
       "0                                                False                               \n",
       "1                                                False                               \n",
       "2                                                False                               \n",
       "3                                                False                               \n",
       "4                                                False                               \n",
       "..                                                 ...                               \n",
       "135                                              False                               \n",
       "136                                              False                               \n",
       "137                                              False                               \n",
       "138                                              False                               \n",
       "139                                              False                               \n",
       "\n",
       "     What coping strategy you use as a student?_Social support (friends, family)  \\\n",
       "0                                                False                             \n",
       "1                                                False                             \n",
       "2                                                 True                             \n",
       "3                                                False                             \n",
       "4                                                False                             \n",
       "..                                                 ...                             \n",
       "135                                              False                             \n",
       "136                                              False                             \n",
       "137                                              False                             \n",
       "138                                               True                             \n",
       "139                                               True                             \n",
       "\n",
       "     Do you have any bad habits like smoking, drinking on a daily basis?_No  \\\n",
       "0                                                 True                        \n",
       "1                                                 True                        \n",
       "2                                                 True                        \n",
       "3                                                 True                        \n",
       "4                                                 True                        \n",
       "..                                                 ...                        \n",
       "135                                               True                        \n",
       "136                                               True                        \n",
       "137                                               True                        \n",
       "138                                               True                        \n",
       "139                                               True                        \n",
       "\n",
       "     Do you have any bad habits like smoking, drinking on a daily basis?_Yes  \\\n",
       "0                                                False                         \n",
       "1                                                False                         \n",
       "2                                                False                         \n",
       "3                                                False                         \n",
       "4                                                False                         \n",
       "..                                                 ...                         \n",
       "135                                              False                         \n",
       "136                                              False                         \n",
       "137                                              False                         \n",
       "138                                              False                         \n",
       "139                                              False                         \n",
       "\n",
       "     Do you have any bad habits like smoking, drinking on a daily basis?_prefer not to say  \n",
       "0                                                False                                      \n",
       "1                                                False                                      \n",
       "2                                                False                                      \n",
       "3                                                False                                      \n",
       "4                                                False                                      \n",
       "..                                                 ...                                      \n",
       "135                                              False                                      \n",
       "136                                              False                                      \n",
       "137                                              False                                      \n",
       "138                                              False                                      \n",
       "139                                              False                                      \n",
       "\n",
       "[132 rows x 16 columns]"
      ]
     },
     "execution_count": 16,
     "metadata": {},
     "output_type": "execute_result"
    }
   ],
   "source": [
    "# Ambil kolom kategorikal\n",
    "category_cols = df_no_outliers.select_dtypes(include=\"object\").columns\n",
    "\n",
    "# One-hot encoding\n",
    "df_encoded = pd.get_dummies(df_no_outliers, columns=category_cols)\n",
    "\n",
    "df_encoded"
   ]
  },
  {
   "cell_type": "code",
   "execution_count": 17,
   "id": "7dc9a6e9",
   "metadata": {},
   "outputs": [],
   "source": [
    "X = df_encoded.copy()\n",
    "\n",
    "scaler = StandardScaler()\n",
    "\n",
    "X_scaled = scaler.fit_transform(X)\n",
    "df_scaled = pd.DataFrame(X_scaled, columns=X.columns)"
   ]
  },
  {
   "cell_type": "code",
   "execution_count": 18,
   "id": "47a86461",
   "metadata": {},
   "outputs": [
    {
     "data": {
      "image/png": "[encoded data removed]",
      "text/plain": [
       "<Figure size 1000x500 with 1 Axes>"
      ]
     },
     "metadata": {},
     "output_type": "display_data"
    }
   ],
   "source": [
    "# Menentukan jumalah cluster optimal (mentode elbow)\n",
    "\n",
    "# Hitung WCSS untuk menentukan K optimal\n",
    "wcss = []\n",
    "# coba dari 1 sampai 10 cluster\n",
    "for i in range(1,11):\n",
    "    # Inisialisasi model K-Means\n",
    "    kmeans = KMeans(n_clusters=i, init='k-means++', random_state=42, n_init=10)\n",
    "\n",
    "    # Latih model\n",
    "    kmeans.fit(df_scaled)\n",
    "\n",
    "    # simpan nilai WCSS\n",
    "    wcss.append(kmeans.inertia_)\n",
    "\n",
    "# Visualisasi Elbow Method\n",
    "plt.figure(figsize=(10,5))\n",
    "plt.plot(range(1,11), wcss, marker=\"o\", linestyle='--')\n",
    "plt.title(\"Metode Elbow untuk K optimal\")\n",
    "plt.xlabel(\"Jumlah Cluster (K)\")\n",
    "plt.ylabel(\"WCSS\")\n",
    "plt.grid(True)\n",
    "plt.show()"
   ]
  },
  {
   "cell_type": "code",
   "execution_count": 19,
   "id": "9a9272d8",
   "metadata": {},
   "outputs": [
    {
     "name": "stdout",
     "output_type": "stream",
     "text": [
      "Distribusi DAta per cluster:\n",
      "Cluster\n",
      "0    89\n",
      "1    27\n",
      "2    16\n",
      "Name: count, dtype: int64\n",
      "  Your Academic Stage  Peer pressure  Academic pressure from your home  \\\n",
      "0       undergraduate              4                                 5   \n",
      "1       undergraduate              3                                 4   \n",
      "2       undergraduate              1                                 1   \n",
      "3       undergraduate              3                                 2   \n",
      "4       undergraduate              3                                 3   \n",
      "\n",
      "  Study Environment         What coping strategy you use as a student?  \\\n",
      "0             Noisy  Analyze the situation and handle it with intel...   \n",
      "1          Peaceful  Analyze the situation and handle it with intel...   \n",
      "2          Peaceful                   Social support (friends, family)   \n",
      "3          Peaceful  Analyze the situation and handle it with intel...   \n",
      "4          Peaceful  Analyze the situation and handle it with intel...   \n",
      "\n",
      "  Do you have any bad habits like smoking, drinking on a daily basis?  \\\n",
      "0                                                 No                    \n",
      "1                                                 No                    \n",
      "2                                                 No                    \n",
      "3                                                 No                    \n",
      "4                                                 No                    \n",
      "\n",
      "   What would you rate the academic  competition in your student life  \\\n",
      "0                                                  3                    \n",
      "1                                                  3                    \n",
      "2                                                  2                    \n",
      "3                                                  4                    \n",
      "4                                                  4                    \n",
      "\n",
      "   Rate your academic stress index   Cluster  \n",
      "0                                 5        0  \n",
      "1                                 3        0  \n",
      "2                                 4        0  \n",
      "3                                 3        0  \n",
      "4                                 5        0  \n"
     ]
    }
   ],
   "source": [
    "optimal_k = 3\n",
    "\n",
    "# inisialisasi odel K-Means dengan K optimal\n",
    "kmeans = KMeans(n_clusters=optimal_k, init='k-means++', random_state=42, n_init=10)\n",
    "\n",
    "# Latih model dan prediksi cluster\n",
    "cluster_labels = kmeans.fit_predict(df_scaled)\n",
    "\n",
    "# Tambahkan label cluster ke Dataframe asli(data sebelum encoding/scaling)\n",
    "df_clustered = df_no_outliers.copy()\n",
    "df_clustered['Cluster'] = cluster_labels\n",
    "\n",
    "print(\"Distribusi DAta per cluster:\")\n",
    "print(df_clustered['Cluster'].value_counts())\n",
    "print(df_clustered.head())"
   ]
  },
  {
   "cell_type": "code",
   "execution_count": 20,
   "id": "48dd1321",
   "metadata": {},
   "outputs": [
    {
     "name": "stdout",
     "output_type": "stream",
     "text": [
      "         Peer pressure  Academic pressure from your home  \\\n",
      "Cluster                                                    \n",
      "0             3.078652                          3.056180   \n",
      "1             3.074074                          3.666667   \n",
      "2             3.437500                          3.437500   \n",
      "\n",
      "         What would you rate the academic  competition in your student life  \\\n",
      "Cluster                                                                       \n",
      "0                                                 3.606742                    \n",
      "1                                                 3.555556                    \n",
      "2                                                 3.625000                    \n",
      "\n",
      "         Rate your academic stress index   \n",
      "Cluster                                    \n",
      "0                                3.719101  \n",
      "1                                4.037037  \n",
      "2                                4.187500  \n"
     ]
    }
   ],
   "source": [
    "# Tampilkan rata-rata fitur per cluster\n",
    "# Gunakan kolom numerik dan kolom 'Cluster'\n",
    "cluster_profile = df_clustered.select_dtypes(include=\"number\").groupby('Cluster').mean()\n",
    "print(cluster_profile)"
   ]
  },
  {
   "cell_type": "code",
   "execution_count": 21,
   "id": "a23cf80d",
   "metadata": {},
   "outputs": [
    {
     "data": {
      "image/png": "[encoded data removed]",
      "text/plain": [
       "<Figure size 1000x600 with 1 Axes>"
      ]
     },
     "metadata": {},
     "output_type": "display_data"
    }
   ],
   "source": [
    "# Terapkan PCA untuk reduksi dimensi\n",
    "pca = PCA(n_components=2)\n",
    "principal_components = pca.fit_transform(df_scaled)\n",
    "df_pca = pd.DataFrame(data = principal_components, \n",
    "                      columns = ['PC1', 'PC2'])\n",
    "df_pca['Cluster'] = cluster_labels\n",
    "\n",
    "# Visualisasi Cluster\n",
    "plt.figure(figsize=(10, 6))\n",
    "sns.scatterplot(x='PC1', y='PC2', hue='Cluster', data=df_pca, \n",
    "                palette='viridis', style='Cluster', s=100)\n",
    "plt.title('Hasil Clustering K-Means (Dipotret dengan PCA)')\n",
    "plt.show()"
   ]
  },
  {
   "cell_type": "markdown",
   "id": "ec21f0a4",
   "metadata": {},
   "source": [
    "# 6. Exploratory Data Analysis (EDA)\n",
    "- Visualisasi distribusi data (histogram, boxplot, scatter plot, heatmap).\n",
    "- Analisis korelasi antar fitur.\n",
    "- Menemukan pola, tren, atau anomali."
   ]
  },
  {
   "cell_type": "code",
   "execution_count": 22,
   "id": "90a509cc",
   "metadata": {},
   "outputs": [
    {
     "name": "stdout",
     "output_type": "stream",
     "text": [
      "       Peer pressure  Academic pressure from your home  \\\n",
      "count     132.000000                        132.000000   \n",
      "mean        3.121212                          3.227273   \n",
      "std         1.034004                          1.251508   \n",
      "min         1.000000                          1.000000   \n",
      "25%         3.000000                          2.000000   \n",
      "50%         3.000000                          3.000000   \n",
      "75%         4.000000                          4.000000   \n",
      "max         5.000000                          5.000000   \n",
      "\n",
      "       What would you rate the academic  competition in your student life  \\\n",
      "count                                         132.000000                    \n",
      "mean                                            3.598485                    \n",
      "std                                             0.898343                    \n",
      "min                                             2.000000                    \n",
      "25%                                             3.000000                    \n",
      "50%                                             4.000000                    \n",
      "75%                                             4.000000                    \n",
      "max                                             5.000000                    \n",
      "\n",
      "       Rate your academic stress index   \n",
      "count                        132.000000  \n",
      "mean                           3.840909  \n",
      "std                            0.880922  \n",
      "min                            2.000000  \n",
      "25%                            3.000000  \n",
      "50%                            4.000000  \n",
      "75%                            4.250000  \n",
      "max                            5.000000  \n",
      "skew: [-0.07739603 -0.13074542 -0.2019979  -0.29086711] kurtosis: [-0.31492321 -0.89781115 -0.701545   -0.68860379]\n"
     ]
    }
   ],
   "source": [
    "numeric_col = df_encoded.select_dtypes(include=\"number\").columns\n",
    "x = df_encoded[numeric_col]\n",
    "print(x.describe())\n",
    "from scipy.stats import skew, kurtosis\n",
    "print(\"skew:\", skew(x), \"kurtosis:\", kurtosis(x))"
   ]
  },
  {
   "cell_type": "code",
   "execution_count": 25,
   "id": "22c7a13f",
   "metadata": {},
   "outputs": [
    {
     "data": {
      "image/png": "[encoded data removed]",
      "text/plain": [
       "<Figure size 640x480 with 1 Axes>"
      ]
     },
     "metadata": {},
     "output_type": "display_data"
    },
    {
     "data": {
      "image/png": "[encoded data removed]",
      "text/plain": [
       "<Figure size 640x480 with 1 Axes>"
      ]
     },
     "metadata": {},
     "output_type": "display_data"
    },
    {
     "data": {
      "image/png": "[encoded data removed]",
      "text/plain": [
       "<Figure size 640x480 with 1 Axes>"
      ]
     },
     "metadata": {},
     "output_type": "display_data"
    },
    {
     "data": {
      "image/png": "[encoded data removed]",
      "text/plain": [
       "<Figure size 640x480 with 1 Axes>"
      ]
     },
     "metadata": {},
     "output_type": "display_data"
    }
   ],
   "source": [
    "for col in numeric_col:\n",
    "    plt.Figure(figsize=(5,3))\n",
    "    sns.countplot(x=col, data=df_clustered, order=[1,2,3,4,5])\n",
    "    plt.title(\"skala 1 - 5\")\n",
    "    plt.show()"
   ]
  },
  {
   "cell_type": "code",
   "execution_count": 26,
   "id": "dff7d37d",
   "metadata": {},
   "outputs": [
    {
     "data": {
      "image/png": "[encoded data removed]",
      "text/plain": [
       "<Figure size 800x600 with 2 Axes>"
      ]
     },
     "metadata": {},
     "output_type": "display_data"
    }
   ],
   "source": [
    "# hitung korelasi antar kolom numerik\n",
    "corr = df_clustered.select_dtypes(include=['number']).corr()\n",
    "\n",
    "# buat heatmap\n",
    "plt.figure(figsize=(8,6))\n",
    "sns.heatmap(corr, annot=True, cmap=\"coolwarm\", vmin=-1, vmax=1)\n",
    "plt.title(\"Correlation Heatmap\")\n",
    "plt.show()"
   ]
  },
  {
   "cell_type": "markdown",
   "id": "c2d3d7af",
   "metadata": {},
   "source": [
    "# 7. Modeling\n",
    "- Split data (train-test split).\n",
    "- Membangun model machine learning.\n",
    "- Melatih model pada data train."
   ]
  },
  {
   "cell_type": "markdown",
   "id": "4d90cf2f",
   "metadata": {},
   "source": [
    "# 8. Evaluasi Model (opsional, jika ada modeling)\n",
    "- Mengukur performa model (akurasi, precision, recall, F1, RMSE, dll).\n",
    "- Cross-validation atau hyperparameter tuning."
   ]
  },
  {
   "cell_type": "markdown",
   "id": "807e74b4",
   "metadata": {},
   "source": [
    "# 9. Interpretasi Hasil\n",
    "- Menjelaskan insight dari analisis (pola penting, variabel yang berpengaruh, tren, dll)."
   ]
  },
  {
   "cell_type": "markdown",
   "id": "d99a206c",
   "metadata": {},
   "source": [
    "# 10. Visualisasi Akhir & Kesimpulan\n",
    "- Membuat grafik/plot yang mudah dipahami.\n",
    "- Menuliskan kesimpulan, insight, atau rekomendasi."
   ]
  },
  {
   "cell_type": "markdown",
   "id": "9579ab55",
   "metadata": {},
   "source": []
  }
 ],
 "metadata": {
  "kernelspec": {
   "display_name": "academic_stress",
   "language": "python",
   "name": "python3"
  },
  "language_info": {
   "codemirror_mode": {
    "name": "ipython",
    "version": 3
   },
   "file_extension": ".py",
   "mimetype": "text/x-python",
   "name": "python",
   "nbconvert_exporter": "python",
   "pygments_lexer": "ipython3",
   "version": "3.13.7"
  }
 },
 "nbformat": 4,
 "nbformat_minor": 5
}
