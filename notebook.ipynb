{
 "cells": [
  {
   "cell_type": "markdown",
   "id": "b57e9462",
   "metadata": {},
   "source": [
    "# Academic Stress Level\n",
    "\n",
    "1. **About Dataset** :<br>\n",
    "dataset berasal dari kaggle dengan judul \"Student Academic Stress Real World Dataset\" dapat di liat dari link berikut https://www.kaggle.com/datasets/poushal02/student-academic-stress-real-world-dataset\n",
    "\n",
    "2. **Business Question** : <br>\n",
    "<t> - seberapa stress siswa di academic?"
   ]
  },
  {
   "cell_type": "markdown",
   "id": "0e11b53e",
   "metadata": {},
   "source": [
    "# 1. Import required library"
   ]
  },
  {
   "cell_type": "code",
   "execution_count": 1,
   "id": "767cf899",
   "metadata": {},
   "outputs": [],
   "source": [
    "import pandas as pd\n",
    "import numpy as np\n",
    "import seaborn as sns\n",
    "import matplotlib as plt"
   ]
  },
  {
   "cell_type": "markdown",
   "id": "6be0cd83",
   "metadata": {},
   "source": [
    "# 2. Load Data"
   ]
  },
  {
   "cell_type": "code",
   "execution_count": null,
   "id": "c934500d",
   "metadata": {},
   "outputs": [],
   "source": [
    "# Load Data csv\n",
    "df = pd.read_csv(\"academic_stress_level.csv\")\n"
   ]
  },
  {
   "cell_type": "markdown",
   "id": "1ed878e3",
   "metadata": {},
   "source": [
    "# 3. Data Understanding"
   ]
  },
  {
   "cell_type": "code",
   "execution_count": null,
   "id": "99301c58",
   "metadata": {},
   "outputs": [
    {
     "data": {
      "application/vnd.microsoft.datawrangler.viewer.v0+json": {
       "columns": [
        {
         "name": "index",
         "rawType": "int64",
         "type": "integer"
        },
        {
         "name": "Timestamp",
         "rawType": "object",
         "type": "string"
        },
        {
         "name": "Your Academic Stage",
         "rawType": "object",
         "type": "string"
        },
        {
         "name": "Peer pressure",
         "rawType": "int64",
         "type": "integer"
        },
        {
         "name": "Academic pressure from your home",
         "rawType": "int64",
         "type": "integer"
        },
        {
         "name": "Study Environment",
         "rawType": "object",
         "type": "string"
        },
        {
         "name": "What coping strategy you use as a student?",
         "rawType": "object",
         "type": "string"
        },
        {
         "name": "Do you have any bad habits like smoking, drinking on a daily basis?",
         "rawType": "object",
         "type": "string"
        },
        {
         "name": "What would you rate the academic  competition in your student life",
         "rawType": "int64",
         "type": "integer"
        },
        {
         "name": "Rate your academic stress index ",
         "rawType": "int64",
         "type": "integer"
        }
       ],
       "ref": "ec5445fa-9619-449f-bb29-45f64221ad52",
       "rows": [
        [
         "0",
         "24/07/2025 22:05:39",
         "undergraduate",
         "4",
         "5",
         "Noisy",
         "Analyze the situation and handle it with intellect",
         "No",
         "3",
         "5"
        ],
        [
         "1",
         "24/07/2025 22:05:52",
         "undergraduate",
         "3",
         "4",
         "Peaceful",
         "Analyze the situation and handle it with intellect",
         "No",
         "3",
         "3"
        ],
        [
         "2",
         "24/07/2025 22:06:39",
         "undergraduate",
         "1",
         "1",
         "Peaceful",
         "Social support (friends, family)",
         "No",
         "2",
         "4"
        ],
        [
         "3",
         "24/07/2025 22:06:45",
         "undergraduate",
         "3",
         "2",
         "Peaceful",
         "Analyze the situation and handle it with intellect",
         "No",
         "4",
         "3"
        ],
        [
         "4",
         "24/07/2025 22:08:06",
         "undergraduate",
         "3",
         "3",
         "Peaceful",
         "Analyze the situation and handle it with intellect",
         "No",
         "4",
         "5"
        ]
       ],
       "shape": {
        "columns": 9,
        "rows": 5
       }
      },
      "text/html": [
       "<div>\n",
       "<style scoped>\n",
       "    .dataframe tbody tr th:only-of-type {\n",
       "        vertical-align: middle;\n",
       "    }\n",
       "\n",
       "    .dataframe tbody tr th {\n",
       "        vertical-align: top;\n",
       "    }\n",
       "\n",
       "    .dataframe thead th {\n",
       "        text-align: right;\n",
       "    }\n",
       "</style>\n",
       "<table border=\"1\" class=\"dataframe\">\n",
       "  <thead>\n",
       "    <tr style=\"text-align: right;\">\n",
       "      <th></th>\n",
       "      <th>Timestamp</th>\n",
       "      <th>Your Academic Stage</th>\n",
       "      <th>Peer pressure</th>\n",
       "      <th>Academic pressure from your home</th>\n",
       "      <th>Study Environment</th>\n",
       "      <th>What coping strategy you use as a student?</th>\n",
       "      <th>Do you have any bad habits like smoking, drinking on a daily basis?</th>\n",
       "      <th>What would you rate the academic  competition in your student life</th>\n",
       "      <th>Rate your academic stress index</th>\n",
       "    </tr>\n",
       "  </thead>\n",
       "  <tbody>\n",
       "    <tr>\n",
       "      <th>0</th>\n",
       "      <td>24/07/2025 22:05:39</td>\n",
       "      <td>undergraduate</td>\n",
       "      <td>4</td>\n",
       "      <td>5</td>\n",
       "      <td>Noisy</td>\n",
       "      <td>Analyze the situation and handle it with intel...</td>\n",
       "      <td>No</td>\n",
       "      <td>3</td>\n",
       "      <td>5</td>\n",
       "    </tr>\n",
       "    <tr>\n",
       "      <th>1</th>\n",
       "      <td>24/07/2025 22:05:52</td>\n",
       "      <td>undergraduate</td>\n",
       "      <td>3</td>\n",
       "      <td>4</td>\n",
       "      <td>Peaceful</td>\n",
       "      <td>Analyze the situation and handle it with intel...</td>\n",
       "      <td>No</td>\n",
       "      <td>3</td>\n",
       "      <td>3</td>\n",
       "    </tr>\n",
       "    <tr>\n",
       "      <th>2</th>\n",
       "      <td>24/07/2025 22:06:39</td>\n",
       "      <td>undergraduate</td>\n",
       "      <td>1</td>\n",
       "      <td>1</td>\n",
       "      <td>Peaceful</td>\n",
       "      <td>Social support (friends, family)</td>\n",
       "      <td>No</td>\n",
       "      <td>2</td>\n",
       "      <td>4</td>\n",
       "    </tr>\n",
       "    <tr>\n",
       "      <th>3</th>\n",
       "      <td>24/07/2025 22:06:45</td>\n",
       "      <td>undergraduate</td>\n",
       "      <td>3</td>\n",
       "      <td>2</td>\n",
       "      <td>Peaceful</td>\n",
       "      <td>Analyze the situation and handle it with intel...</td>\n",
       "      <td>No</td>\n",
       "      <td>4</td>\n",
       "      <td>3</td>\n",
       "    </tr>\n",
       "    <tr>\n",
       "      <th>4</th>\n",
       "      <td>24/07/2025 22:08:06</td>\n",
       "      <td>undergraduate</td>\n",
       "      <td>3</td>\n",
       "      <td>3</td>\n",
       "      <td>Peaceful</td>\n",
       "      <td>Analyze the situation and handle it with intel...</td>\n",
       "      <td>No</td>\n",
       "      <td>4</td>\n",
       "      <td>5</td>\n",
       "    </tr>\n",
       "  </tbody>\n",
       "</table>\n",
       "</div>"
      ],
      "text/plain": [
       "             Timestamp Your Academic Stage  Peer pressure  \\\n",
       "0  24/07/2025 22:05:39       undergraduate              4   \n",
       "1  24/07/2025 22:05:52       undergraduate              3   \n",
       "2  24/07/2025 22:06:39       undergraduate              1   \n",
       "3  24/07/2025 22:06:45       undergraduate              3   \n",
       "4  24/07/2025 22:08:06       undergraduate              3   \n",
       "\n",
       "   Academic pressure from your home Study Environment  \\\n",
       "0                                 5             Noisy   \n",
       "1                                 4          Peaceful   \n",
       "2                                 1          Peaceful   \n",
       "3                                 2          Peaceful   \n",
       "4                                 3          Peaceful   \n",
       "\n",
       "          What coping strategy you use as a student?  \\\n",
       "0  Analyze the situation and handle it with intel...   \n",
       "1  Analyze the situation and handle it with intel...   \n",
       "2                   Social support (friends, family)   \n",
       "3  Analyze the situation and handle it with intel...   \n",
       "4  Analyze the situation and handle it with intel...   \n",
       "\n",
       "  Do you have any bad habits like smoking, drinking on a daily basis?  \\\n",
       "0                                                 No                    \n",
       "1                                                 No                    \n",
       "2                                                 No                    \n",
       "3                                                 No                    \n",
       "4                                                 No                    \n",
       "\n",
       "   What would you rate the academic  competition in your student life  \\\n",
       "0                                                  3                    \n",
       "1                                                  3                    \n",
       "2                                                  2                    \n",
       "3                                                  4                    \n",
       "4                                                  4                    \n",
       "\n",
       "   Rate your academic stress index   \n",
       "0                                 5  \n",
       "1                                 3  \n",
       "2                                 4  \n",
       "3                                 3  \n",
       "4                                 5  "
      ]
     },
     "execution_count": 12,
     "metadata": {},
     "output_type": "execute_result"
    }
   ],
   "source": [
    "# Melihat 5 baris pertama dataset\n",
    "df.head(5)"
   ]
  },
  {
   "cell_type": "code",
   "execution_count": null,
   "id": "7e9cacf4",
   "metadata": {},
   "outputs": [
    {
     "name": "stdout",
     "output_type": "stream",
     "text": [
      "<class 'pandas.core.frame.DataFrame'>\n",
      "RangeIndex: 140 entries, 0 to 139\n",
      "Data columns (total 9 columns):\n",
      " #   Column                                                               Non-Null Count  Dtype \n",
      "---  ------                                                               --------------  ----- \n",
      " 0   Timestamp                                                            140 non-null    object\n",
      " 1   Your Academic Stage                                                  140 non-null    object\n",
      " 2   Peer pressure                                                        140 non-null    int64 \n",
      " 3   Academic pressure from your home                                     140 non-null    int64 \n",
      " 4   Study Environment                                                    139 non-null    object\n",
      " 5   What coping strategy you use as a student?                           140 non-null    object\n",
      " 6   Do you have any bad habits like smoking, drinking on a daily basis?  140 non-null    object\n",
      " 7   What would you rate the academic  competition in your student life   140 non-null    int64 \n",
      " 8   Rate your academic stress index                                      140 non-null    int64 \n",
      "dtypes: int64(4), object(5)\n",
      "memory usage: 10.0+ KB\n"
     ]
    }
   ],
   "source": [
    "# Menampilkan Info Tentang Dataset\n",
    "df.info()"
   ]
  },
  {
   "cell_type": "code",
   "execution_count": null,
   "id": "86166f35",
   "metadata": {},
   "outputs": [
    {
     "data": {
      "text/plain": [
       "(140, 9)"
      ]
     },
     "execution_count": 15,
     "metadata": {},
     "output_type": "execute_result"
    }
   ],
   "source": [
    "# Menampilkan shape dataset\n",
    "df.shape"
   ]
  },
  {
   "cell_type": "code",
   "execution_count": null,
   "id": "c6341396",
   "metadata": {},
   "outputs": [
    {
     "data": {
      "text/plain": [
       "['Timestamp',\n",
       " 'Your Academic Stage',\n",
       " 'Peer pressure',\n",
       " 'Academic pressure from your home',\n",
       " 'Study Environment',\n",
       " 'What coping strategy you use as a student?',\n",
       " 'Do you have any bad habits like smoking, drinking on a daily basis?',\n",
       " 'What would you rate the academic  competition in your student life',\n",
       " 'Rate your academic stress index ']"
      ]
     },
     "execution_count": 17,
     "metadata": {},
     "output_type": "execute_result"
    }
   ],
   "source": [
    "# Menampilkan nama kolom\n",
    "df.columns.tolist()"
   ]
  },
  {
   "cell_type": "code",
   "execution_count": 21,
   "id": "b91c403e",
   "metadata": {},
   "outputs": [
    {
     "data": {
      "application/vnd.microsoft.datawrangler.viewer.v0+json": {
       "columns": [
        {
         "name": "index",
         "rawType": "object",
         "type": "string"
        },
        {
         "name": "0",
         "rawType": "object",
         "type": "unknown"
        }
       ],
       "ref": "eabd772e-d257-4412-a248-0a5d349b10da",
       "rows": [
        [
         "Timestamp",
         "object"
        ],
        [
         "Your Academic Stage",
         "object"
        ],
        [
         "Peer pressure",
         "int64"
        ],
        [
         "Academic pressure from your home",
         "int64"
        ],
        [
         "Study Environment",
         "object"
        ],
        [
         "What coping strategy you use as a student?",
         "object"
        ],
        [
         "Do you have any bad habits like smoking, drinking on a daily basis?",
         "object"
        ],
        [
         "What would you rate the academic  competition in your student life",
         "int64"
        ],
        [
         "Rate your academic stress index ",
         "int64"
        ]
       ],
       "shape": {
        "columns": 1,
        "rows": 9
       }
      },
      "text/plain": [
       "Timestamp                                                              object\n",
       "Your Academic Stage                                                    object\n",
       "Peer pressure                                                           int64\n",
       "Academic pressure from your home                                        int64\n",
       "Study Environment                                                      object\n",
       "What coping strategy you use as a student?                             object\n",
       "Do you have any bad habits like smoking, drinking on a daily basis?    object\n",
       "What would you rate the academic  competition in your student life      int64\n",
       "Rate your academic stress index                                         int64\n",
       "dtype: object"
      ]
     },
     "execution_count": 21,
     "metadata": {},
     "output_type": "execute_result"
    }
   ],
   "source": [
    "# Tipe data setiap Kolom\n",
    "df.dtypes"
   ]
  },
  {
   "cell_type": "markdown",
   "id": "59fb21f9",
   "metadata": {},
   "source": [
    "# 4. Data Cleaning"
   ]
  },
  {
   "cell_type": "code",
   "execution_count": null,
   "id": "71a1504a",
   "metadata": {},
   "outputs": [
    {
     "data": {
      "application/vnd.microsoft.datawrangler.viewer.v0+json": {
       "columns": [
        {
         "name": "index",
         "rawType": "object",
         "type": "string"
        },
        {
         "name": "0",
         "rawType": "int64",
         "type": "integer"
        }
       ],
       "ref": "c5d8105e-92b0-4707-8419-4d0a22075d7e",
       "rows": [
        [
         "Timestamp",
         "0"
        ],
        [
         "Your Academic Stage",
         "0"
        ],
        [
         "Peer pressure",
         "0"
        ],
        [
         "Academic pressure from your home",
         "0"
        ],
        [
         "Study Environment",
         "1"
        ],
        [
         "What coping strategy you use as a student?",
         "0"
        ],
        [
         "Do you have any bad habits like smoking, drinking on a daily basis?",
         "0"
        ],
        [
         "What would you rate the academic  competition in your student life",
         "0"
        ],
        [
         "Rate your academic stress index ",
         "0"
        ]
       ],
       "shape": {
        "columns": 1,
        "rows": 9
       }
      },
      "text/plain": [
       "Timestamp                                                              0\n",
       "Your Academic Stage                                                    0\n",
       "Peer pressure                                                          0\n",
       "Academic pressure from your home                                       0\n",
       "Study Environment                                                      1\n",
       "What coping strategy you use as a student?                             0\n",
       "Do you have any bad habits like smoking, drinking on a daily basis?    0\n",
       "What would you rate the academic  competition in your student life     0\n",
       "Rate your academic stress index                                        0\n",
       "dtype: int64"
      ]
     },
     "execution_count": 22,
     "metadata": {},
     "output_type": "execute_result"
    }
   ],
   "source": [
    "# cek missing values\n",
    "df.isnull().sum()"
   ]
  },
  {
   "cell_type": "code",
   "execution_count": 26,
   "id": "096e5118",
   "metadata": {},
   "outputs": [
    {
     "data": {
      "application/vnd.microsoft.datawrangler.viewer.v0+json": {
       "columns": [
        {
         "name": "index",
         "rawType": "object",
         "type": "string"
        },
        {
         "name": "0",
         "rawType": "float64",
         "type": "float"
        }
       ],
       "ref": "87da3d8d-08b7-4ae4-a1e6-3014593bac33",
       "rows": [
        [
         "Timestamp",
         "0.0"
        ],
        [
         "Your Academic Stage",
         "0.0"
        ],
        [
         "Peer pressure",
         "0.0"
        ],
        [
         "Academic pressure from your home",
         "0.0"
        ],
        [
         "Study Environment",
         "0.7142857142857143"
        ],
        [
         "What coping strategy you use as a student?",
         "0.0"
        ],
        [
         "Do you have any bad habits like smoking, drinking on a daily basis?",
         "0.0"
        ],
        [
         "What would you rate the academic  competition in your student life",
         "0.0"
        ],
        [
         "Rate your academic stress index ",
         "0.0"
        ]
       ],
       "shape": {
        "columns": 1,
        "rows": 9
       }
      },
      "text/plain": [
       "Timestamp                                                              0.000000\n",
       "Your Academic Stage                                                    0.000000\n",
       "Peer pressure                                                          0.000000\n",
       "Academic pressure from your home                                       0.000000\n",
       "Study Environment                                                      0.714286\n",
       "What coping strategy you use as a student?                             0.000000\n",
       "Do you have any bad habits like smoking, drinking on a daily basis?    0.000000\n",
       "What would you rate the academic  competition in your student life     0.000000\n",
       "Rate your academic stress index                                        0.000000\n",
       "dtype: float64"
      ]
     },
     "execution_count": 26,
     "metadata": {},
     "output_type": "execute_result"
    }
   ],
   "source": [
    "# persentase missing values\n",
    "missing_values = (df.isnull().sum() / len(df)) * 100\n",
    "missing_values"
   ]
  },
  {
   "cell_type": "code",
   "execution_count": null,
   "id": "6d540ed1",
   "metadata": {},
   "outputs": [
    {
     "data": {
      "application/vnd.microsoft.datawrangler.viewer.v0+json": {
       "columns": [
        {
         "name": "index",
         "rawType": "object",
         "type": "string"
        },
        {
         "name": "0",
         "rawType": "int64",
         "type": "integer"
        }
       ],
       "ref": "b0a7af95-d116-4ada-92d2-4b2afbdd4dbc",
       "rows": [
        [
         "Timestamp",
         "0"
        ],
        [
         "Your Academic Stage",
         "0"
        ],
        [
         "Peer pressure",
         "0"
        ],
        [
         "Academic pressure from your home",
         "0"
        ],
        [
         "Study Environment",
         "0"
        ],
        [
         "What coping strategy you use as a student?",
         "0"
        ],
        [
         "Do you have any bad habits like smoking, drinking on a daily basis?",
         "0"
        ],
        [
         "What would you rate the academic  competition in your student life",
         "0"
        ],
        [
         "Rate your academic stress index ",
         "0"
        ]
       ],
       "shape": {
        "columns": 1,
        "rows": 9
       }
      },
      "text/plain": [
       "Timestamp                                                              0\n",
       "Your Academic Stage                                                    0\n",
       "Peer pressure                                                          0\n",
       "Academic pressure from your home                                       0\n",
       "Study Environment                                                      0\n",
       "What coping strategy you use as a student?                             0\n",
       "Do you have any bad habits like smoking, drinking on a daily basis?    0\n",
       "What would you rate the academic  competition in your student life     0\n",
       "Rate your academic stress index                                        0\n",
       "dtype: int64"
      ]
     },
     "execution_count": 30,
     "metadata": {},
     "output_type": "execute_result"
    }
   ],
   "source": [
    "# Handle Missing values\n",
    "\n",
    "# menghapus data yang terindikasi missing values\n",
    "df = df.dropna()\n",
    "\n",
    "# Mengisi values dengan nilai rata rata\n",
    "#df.fillna(df.mean(), inplace=True) # untuk numerikal\n",
    "#df.fillna(df.mode().iloc[0], inplace=True) # untuk categorikal\n",
    "\n",
    "# cek kembali missing values\n",
    "df.isna().sum()"
   ]
  },
  {
   "cell_type": "code",
   "execution_count": 32,
   "id": "795c510f",
   "metadata": {},
   "outputs": [
    {
     "name": "stdout",
     "output_type": "stream",
     "text": [
      "jumlah data duplikat : 0\n"
     ]
    }
   ],
   "source": [
    "# cek duplicated\n",
    "print(f\"jumlah data duplikat : {df.duplicated().sum()}\")"
   ]
  },
  {
   "cell_type": "code",
   "execution_count": null,
   "id": "05e520c6",
   "metadata": {},
   "outputs": [],
   "source": [
    "# Hapus data duplikat\n",
    "#df = df.drop_duplicates(inplace=True)"
   ]
  },
  {
   "cell_type": "code",
   "execution_count": 40,
   "id": "8358917f",
   "metadata": {},
   "outputs": [
    {
     "data": {
      "application/vnd.microsoft.datawrangler.viewer.v0+json": {
       "columns": [
        {
         "name": "index",
         "rawType": "object",
         "type": "string"
        },
        {
         "name": "0",
         "rawType": "int64",
         "type": "integer"
        }
       ],
       "ref": "b11729ea-a0f4-450c-9757-0d36be3c9cdc",
       "rows": [
        [
         "Peer pressure",
         "0"
        ],
        [
         "Academic pressure from your home",
         "0"
        ],
        [
         "What would you rate the academic  competition in your student life",
         "6"
        ],
        [
         "Rate your academic stress index ",
         "6"
        ]
       ],
       "shape": {
        "columns": 1,
        "rows": 4
       }
      },
      "text/plain": [
       "Peer pressure                                                         0\n",
       "Academic pressure from your home                                      0\n",
       "What would you rate the academic  competition in your student life    6\n",
       "Rate your academic stress index                                       6\n",
       "dtype: int64"
      ]
     },
     "execution_count": 40,
     "metadata": {},
     "output_type": "execute_result"
    }
   ],
   "source": [
    "# Cek outliers dengan IQR\n",
    "Q1 = df.quantile(0.25, numeric_only=True)\n",
    "Q3 = df.quantile(0.75, numeric_only=True)\n",
    "IQR = Q3 - Q1\n",
    "\n",
    "# hitung batas bawah dan atas\n",
    "lower_bound = Q1 - 1.5 * IQR\n",
    "upper_bound = Q3 + 1.5 * IQR\n",
    "\n",
    "# Pilih hanya kolom numerik dari DataFrame asli untuk perbandingan\n",
    "df_numerik = df[Q1.index]\n",
    "\n",
    "# Identifikasi outliers pada kolom numerik\n",
    "outliers = ((df_numerik < lower_bound) | (df_numerik > upper_bound)).sum()\n",
    "\n",
    "# Menampilkan outliers\n",
    "outliers"
   ]
  },
  {
   "cell_type": "code",
   "execution_count": null,
   "id": "e4dfc724",
   "metadata": {},
   "outputs": [],
   "source": []
  }
 ],
 "metadata": {
  "kernelspec": {
   "display_name": "academic_stress",
   "language": "python",
   "name": "python3"
  },
  "language_info": {
   "codemirror_mode": {
    "name": "ipython",
    "version": 3
   },
   "file_extension": ".py",
   "mimetype": "text/x-python",
   "name": "python",
   "nbconvert_exporter": "python",
   "pygments_lexer": "ipython3",
   "version": "3.13.7"
  }
 },
 "nbformat": 4,
 "nbformat_minor": 5
}
